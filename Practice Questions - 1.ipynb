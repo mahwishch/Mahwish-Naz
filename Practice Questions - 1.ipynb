{
 "cells": [
  {
   "cell_type": "code",
   "execution_count": 22,
   "id": "83fc202a",
   "metadata": {},
   "outputs": [
    {
     "name": "stdout",
     "output_type": "stream",
     "text": [
      "Please enter your full name:Musa Khan\n",
      "Enter the name of item purchased:Toy Car\n",
      "Enter cost of the item:200\n",
      "Hi,Musa Khan welcome to our store. Your calculated dicsount is: 40.0 on item: Toy Car.\n",
      "Total amount to pay: 160.0\n",
      "Thank you please visit again.\n"
     ]
    }
   ],
   "source": [
    "# Q1. \n",
    "full_name = input('Please enter your full name:')\n",
    "Item_Purchased = input('Enter the name of item purchased:')\n",
    "cost = float(input('Enter cost of the item:'))\n",
    "discount = cost * 0.20\n",
    "\n",
    "discounted_price = cost - discount\n",
    "\n",
    "print(f'''Hi,{full_name} welcome to our store. Your calculated dicsount is: {discount} on item: {Item_Purchased}.\n",
    "Total amount to pay: {discounted_price}\n",
    "Thank you please visit again.''')"
   ]
  },
  {
   "cell_type": "code",
   "execution_count": 7,
   "id": "8aa8e1d9",
   "metadata": {},
   "outputs": [
    {
     "name": "stdout",
     "output_type": "stream",
     "text": [
      "Enter name of interviewer:Jim\n",
      "Enter the name of applicant:Carla\n",
      "Enter the time of interview:4:30pm\n",
      "Jim will interview Carla at 4:30pm\n"
     ]
    }
   ],
   "source": [
    "# Q2.\n",
    "\n",
    "interviewer = input('Enter name of interviewer:')\n",
    "applicant = input('Enter the name of applicant:')\n",
    "time = input('Enter the time of interview:')\n",
    "\n",
    "print(f\"{interviewer} will interview {applicant} at {time}\")"
   ]
  },
  {
   "cell_type": "code",
   "execution_count": 9,
   "id": "798dbd39",
   "metadata": {},
   "outputs": [
    {
     "name": "stdout",
     "output_type": "stream",
     "text": [
      "Enter the first no.:677\n",
      "Enter the second no.:677.8\n",
      "First number is greater then the second number: False\n",
      "First number is equal to the second number: False\n",
      "First number is less then the second number: True\n"
     ]
    }
   ],
   "source": [
    "#Q3. \n",
    "var1 = float(input('Enter the first no.:'))\n",
    "var2 = float(input('Enter the second no.:'))\n",
    "\n",
    "print(\"First number is greater then the second number:\" , (var1 > var2))\n",
    "print(\"First number is equal to the second number:\" , (var1 == var2))\n",
    "print(\"First number is less then the second number:\" , (var1 < var2))"
   ]
  },
  {
   "cell_type": "code",
   "execution_count": 11,
   "id": "3a4dfb2f",
   "metadata": {},
   "outputs": [
    {
     "name": "stdout",
     "output_type": "stream",
     "text": [
      "Enter the first no.:68\n",
      "True\n"
     ]
    }
   ],
   "source": [
    "# Q4.\n",
    "var1 = float(input('Enter the first no.:'))\n",
    "print( (var1 > 10) and (var1 % 2 == 0 ))"
   ]
  },
  {
   "cell_type": "code",
   "execution_count": 12,
   "id": "76c3d7c6",
   "metadata": {},
   "outputs": [
    {
     "name": "stdout",
     "output_type": "stream",
     "text": [
      "Enter your age:12\n",
      "You are eligible to drive: False\n",
      "You are eligible to vote: False\n"
     ]
    }
   ],
   "source": [
    "# Q5.\n",
    "user_age = int(input('Enter your age:'))\n",
    "\n",
    "print(\"You are eligible to drive:\" , (user_age > 16))\n",
    "print(\"You are eligible to vote:\" , (user_age > 18))\n"
   ]
  },
  {
   "cell_type": "code",
   "execution_count": 16,
   "id": "01920c0b",
   "metadata": {},
   "outputs": [
    {
     "name": "stdout",
     "output_type": "stream",
     "text": [
      "Enter your full name:Rabya Khan\n",
      "Length of first name: 5\n",
      "Length of second name: 4\n"
     ]
    }
   ],
   "source": [
    "# Q6. \n",
    "\n",
    "full_name = input('Enter your full name:')\n",
    "\n",
    "\n",
    "first_space_index = full_name.index(\" \")\n",
    "    \n",
    "\n",
    "first_name = full_name[:first_space_index]\n",
    "last_name = full_name[first_space_index+1:]\n",
    "    \n",
    "print(\"Length of first name:\", len(first_name))\n",
    "print(\"Length of second name:\", len(last_name))"
   ]
  },
  {
   "cell_type": "code",
   "execution_count": 17,
   "id": "7ca01bf4",
   "metadata": {},
   "outputs": [
    {
     "name": "stdout",
     "output_type": "stream",
     "text": [
      "Enter a sentence: j j j j j j  j j j j j j j j j j j j j j j j jj \n",
      "Modified sentence without spaces: jjjjjjjjjjjjjjjjjjjjjjjj\n"
     ]
    }
   ],
   "source": [
    "# Q7.\n",
    "\n",
    "sentence = input(\"Enter a sentence: \")\n",
    "\n",
    "modified_sentence = sentence.replace(\" \", \"\")\n",
    "\n",
    "print(\"Modified sentence without spaces:\", modified_sentence)"
   ]
  },
  {
   "cell_type": "code",
   "execution_count": 18,
   "id": "57860d21",
   "metadata": {},
   "outputs": [
    {
     "name": "stdout",
     "output_type": "stream",
     "text": [
      "Enter your email address: hghghjg@gmail.comjkhkjhk\n",
      "The email address contains the '@gmail.com' domain: True\n"
     ]
    }
   ],
   "source": [
    "# Q8.\n",
    "email = input(\"Enter your email address: \")\n",
    "\n",
    "print(\"The email address contains the '@gmail.com' domain:\", (\"@gmail.com\" in email) )"
   ]
  },
  {
   "cell_type": "code",
   "execution_count": 20,
   "id": "50393960",
   "metadata": {},
   "outputs": [
    {
     "name": "stdout",
     "output_type": "stream",
     "text": [
      "Initial list of fruits: ['apple', 'banana', 'cherry', 'kiwi', 'blackberry']\n",
      "Enter the position to add a new fruit (0 to 5):3\n",
      "Enter the fruit to add: strawberry\n",
      "List of fruits after adding: ['apple', 'banana', 'cherry', 'strawberry', 'kiwi', 'blackberry']\n",
      "Enter a fruit to remove: cherry\n",
      "List of fruits after removing: ['apple', 'banana', 'strawberry', 'kiwi', 'blackberry']\n"
     ]
    }
   ],
   "source": [
    "#Q9.\n",
    "\n",
    "fruits = [\"apple\", \"banana\", \"cherry\", \"kiwi\", \"blackberry\"]\n",
    "len_list = len(fruits)\n",
    "\n",
    "\n",
    "print(\"Initial list of fruits:\", fruits)\n",
    "\n",
    "position = int(input(f\"Enter the position to add a new fruit (0 to {len_list}):\"))\n",
    "               \n",
    "new_fruit = input(\"Enter the fruit to add: \")\n",
    "               \n",
    "fruits.insert(position, new_fruit)\n",
    "\n",
    "\n",
    "print(\"List of fruits after adding:\", fruits)\n",
    "\n",
    "\n",
    "fruit_to_remove = input(\"Enter a fruit to remove: \")\n",
    "\n",
    "fruits.remove(fruit_to_remove)\n",
    "print(\"List of fruits after removing:\", fruits)\n"
   ]
  },
  {
   "cell_type": "code",
   "execution_count": 21,
   "id": "a791b581",
   "metadata": {},
   "outputs": [
    {
     "name": "stdout",
     "output_type": "stream",
     "text": [
      "Initial list of colors: ['red', 'green', 'blue', 'yellow', 'pink']\n",
      "List of colors after extension: ['red', 'green', 'blue', 'yellow', 'pink', 'voilet', 'black', 'white']\n"
     ]
    }
   ],
   "source": [
    "# Q10. \n",
    "\n",
    "colors = [\"red\", \"green\", \"blue\", \"yellow\", \"pink\"]\n",
    "\n",
    "print(\"Initial list of colors:\", colors)\n",
    "\n",
    "Extend_color_list = [\"voilet\", \"black\", \"white\"]\n",
    "\n",
    "colors.extend(Extend_color_list)\n",
    "\n",
    "print(\"List of colors after extension:\", colors)"
   ]
  },
  {
   "cell_type": "code",
   "execution_count": null,
   "id": "7cb24768",
   "metadata": {},
   "outputs": [],
   "source": []
  }
 ],
 "metadata": {
  "kernelspec": {
   "display_name": "Python 3 (ipykernel)",
   "language": "python",
   "name": "python3"
  },
  "language_info": {
   "codemirror_mode": {
    "name": "ipython",
    "version": 3
   },
   "file_extension": ".py",
   "mimetype": "text/x-python",
   "name": "python",
   "nbconvert_exporter": "python",
   "pygments_lexer": "ipython3",
   "version": "3.9.13"
  }
 },
 "nbformat": 4,
 "nbformat_minor": 5
}
