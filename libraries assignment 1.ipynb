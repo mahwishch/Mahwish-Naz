{
 "cells": [
  {
   "cell_type": "code",
   "execution_count": 1,
   "id": "8e5077c9",
   "metadata": {},
   "outputs": [
    {
     "data": {
      "text/plain": [
       "array([0., 0., 0., 0., 0., 0., 0., 0., 0., 0.])"
      ]
     },
     "execution_count": 1,
     "metadata": {},
     "output_type": "execute_result"
    }
   ],
   "source": [
    "# Array creation\n",
    "# 1.\tCreate a numpy array of size 10, filled with zeros\n",
    "import numpy as np\n",
    "array_z=np.zeros(10)\n",
    "array_z\n"
   ]
  },
  {
   "cell_type": "code",
   "execution_count": 6,
   "id": "a7954f83",
   "metadata": {},
   "outputs": [
    {
     "data": {
      "text/plain": [
       "array([10., 11., 12., 13., 14., 15., 16., 17., 18., 19., 20., 21., 22.,\n",
       "       23., 24., 25., 26., 27., 28., 29., 30., 31., 32., 33., 34., 35.,\n",
       "       36., 37., 38., 39., 40., 41., 42., 43., 44., 45., 46., 47., 48.,\n",
       "       49.])"
      ]
     },
     "execution_count": 6,
     "metadata": {},
     "output_type": "execute_result"
    }
   ],
   "source": [
    "# 2.\tCreate a numpy array with values ranging from 10 to 49 and set its datatype to float\n",
    "\n",
    "#(Hint: Remember that you can set a specific dtype while defining an array for e.g. \n",
    "#Arr1 =np.array([1,2,3,4,5]) #defines an int array by default\n",
    "#Arr2 =np.array([1,2,3,4,5], dtype = float) #specifying the dtype as an argument will create a float array). \n",
    "array_f = np.arange(10, 50, dtype=float)\n",
    "array_f\n"
   ]
  },
  {
   "cell_type": "code",
   "execution_count": 10,
   "id": "ff28160a",
   "metadata": {},
   "outputs": [
    {
     "data": {
      "text/plain": [
       "array([[1, 1],\n",
       "       [1, 1]])"
      ]
     },
     "execution_count": 10,
     "metadata": {},
     "output_type": "execute_result"
    }
   ],
   "source": [
    "#3.\tCreate a numpy matrix of 2*2 integers, filled with ones.\n",
    "ones_matrix = np.ones((2, 2), dtype=int)\n",
    "ones_matrix"
   ]
  },
  {
   "cell_type": "code",
   "execution_count": 11,
   "id": "3cbbc16f",
   "metadata": {},
   "outputs": [
    {
     "data": {
      "text/plain": [
       "array([[1., 1.],\n",
       "       [1., 1.],\n",
       "       [1., 1.]])"
      ]
     },
     "execution_count": 11,
     "metadata": {},
     "output_type": "execute_result"
    }
   ],
   "source": [
    "#4.\tCreate a numpy matrix of 3*2 float numbers, filled with ones.\n",
    "ones_matrix= np.ones ((3,2),dtype=float)\n",
    "ones_matrix"
   ]
  },
  {
   "cell_type": "code",
   "execution_count": 13,
   "id": "a657cf6d",
   "metadata": {},
   "outputs": [
    {
     "data": {
      "text/plain": [
       "array([[1, 1, 1],\n",
       "       [1, 1, 1]])"
      ]
     },
     "execution_count": 13,
     "metadata": {},
     "output_type": "execute_result"
    }
   ],
   "source": [
    "# 5.\tGiven the X numpy array, create a new numpy array with the same shape and type as X, filled with ones. (#hint: search the function np.ones_like( ) )\n",
    "X = np.array([[7,8,9], [10,11,12]])\n",
    "new_array_ones= np.ones_like(X)\n",
    "new_array_ones\n"
   ]
  },
  {
   "cell_type": "code",
   "execution_count": 14,
   "id": "ed280146",
   "metadata": {},
   "outputs": [
    {
     "data": {
      "text/plain": [
       "array([[0, 0, 0],\n",
       "       [0, 0, 0]])"
      ]
     },
     "execution_count": 14,
     "metadata": {},
     "output_type": "execute_result"
    }
   ],
   "source": [
    "# 6.\tGiven the X numpy matrix, create a new numpy matrix with the same shape and type as X, filled with zeros. (hint: similar function as above exists for zeros as well)\n",
    "new_array_z= np.zeros_like(X)\n",
    "new_array_z"
   ]
  },
  {
   "cell_type": "code",
   "execution_count": 15,
   "id": "39133854",
   "metadata": {},
   "outputs": [
    {
     "data": {
      "text/plain": [
       "array([[5, 5, 5, 5],\n",
       "       [5, 5, 5, 5],\n",
       "       [5, 5, 5, 5],\n",
       "       [5, 5, 5, 5]])"
      ]
     },
     "execution_count": 15,
     "metadata": {},
     "output_type": "execute_result"
    }
   ],
   "source": [
    "#7.\tCreate a numpy matrix of 4*4 integers, filled with fives.\n",
    "fives_matrix= np.full((4,4),5,dtype=int)\n",
    "fives_matrix"
   ]
  },
  {
   "cell_type": "code",
   "execution_count": 17,
   "id": "c405dd58",
   "metadata": {},
   "outputs": [
    {
     "data": {
      "text/plain": [
       "array([[7, 7, 7],\n",
       "       [7, 7, 7]])"
      ]
     },
     "execution_count": 17,
     "metadata": {},
     "output_type": "execute_result"
    }
   ],
   "source": [
    "#8.\tGiven the X numpy matrix, create a new numpy matrix with the same shape and type as X, filled with sevens.\n",
    "seven_matrix= np.full_like(X,7)\n",
    "seven_matrix"
   ]
  },
  {
   "cell_type": "code",
   "execution_count": 18,
   "id": "9066e66f",
   "metadata": {},
   "outputs": [
    {
     "data": {
      "text/plain": [
       "array([[1., 0., 0.],\n",
       "       [0., 1., 0.],\n",
       "       [0., 0., 1.]])"
      ]
     },
     "execution_count": 18,
     "metadata": {},
     "output_type": "execute_result"
    }
   ],
   "source": [
    "# 9.\tCreate a 3*3 identity numpy matrix with ones on the diagonal and zeros elsewhere.\n",
    "matrix_identity= np.eye(3)\n",
    "matrix_identity"
   ]
  },
  {
   "cell_type": "code",
   "execution_count": 20,
   "id": "486d9c40",
   "metadata": {},
   "outputs": [
    {
     "data": {
      "text/plain": [
       "array([6, 4, 9])"
      ]
     },
     "execution_count": 20,
     "metadata": {},
     "output_type": "execute_result"
    }
   ],
   "source": [
    "#10.\tCreate a numpy array, filled with 3 random integer values between 1 and 10.\n",
    "random_array=np.random.randint(1,11,3)\n",
    "random_array\n"
   ]
  },
  {
   "cell_type": "code",
   "execution_count": 21,
   "id": "3186fc70",
   "metadata": {},
   "outputs": [
    {
     "data": {
      "text/plain": [
       "array([[[0.55373224, 0.02279883, 0.81196782],\n",
       "        [0.50041272, 0.76339624, 0.11692712],\n",
       "        [0.71114231, 0.43916495, 0.96138031]],\n",
       "\n",
       "       [[0.99755293, 0.02705985, 0.96746185],\n",
       "        [0.21632496, 0.20599733, 0.47529544],\n",
       "        [0.3035737 , 0.41016644, 0.81287617]],\n",
       "\n",
       "       [[0.01988808, 0.86182795, 0.97982639],\n",
       "        [0.0795259 , 0.50912494, 0.27257584],\n",
       "        [0.01148741, 0.61917892, 0.25841471]]])"
      ]
     },
     "execution_count": 21,
     "metadata": {},
     "output_type": "execute_result"
    }
   ],
   "source": [
    "# 11.\tCreate a 3*3*3 numpy matrix, filled with random float values.\n",
    "float_random_matrix= np.random.rand(3,3,3)\n",
    "float_random_matrix"
   ]
  },
  {
   "cell_type": "code",
   "execution_count": 22,
   "id": "b48c1bbe",
   "metadata": {},
   "outputs": [
    {
     "data": {
      "text/plain": [
       "array([ 1,  2,  3,  4,  5,  6,  7,  8,  9, 10])"
      ]
     },
     "execution_count": 22,
     "metadata": {},
     "output_type": "execute_result"
    }
   ],
   "source": [
    "# 12.\tCreate a numpy array with numbers from 1 to 10\n",
    "numpy_array= np.arange(1,11)\n",
    "numpy_array"
   ]
  },
  {
   "cell_type": "code",
   "execution_count": 27,
   "id": "24e26b3b",
   "metadata": {},
   "outputs": [
    {
     "data": {
      "text/plain": [
       "array([1, 3, 5, 7, 9])"
      ]
     },
     "execution_count": 27,
     "metadata": {},
     "output_type": "execute_result"
    }
   ],
   "source": [
    "#13.\tCreate a numpy array with the odd numbers between 1 to 10.\n",
    "array_odd=np.arange(1,11,2)\n",
    "array_odd"
   ]
  },
  {
   "cell_type": "code",
   "execution_count": 28,
   "id": "415aa6b5",
   "metadata": {},
   "outputs": [
    {
     "data": {
      "text/plain": [
       "array([10,  9,  8,  7,  6,  5,  4,  3,  2,  1])"
      ]
     },
     "execution_count": 28,
     "metadata": {},
     "output_type": "execute_result"
    }
   ],
   "source": [
    "# 14.\tCreate a numpy array with numbers from 1 to 10, in descending order.\n",
    "array_desc=np.arange(10,0,-1)\n",
    "array_desc"
   ]
  },
  {
   "cell_type": "code",
   "execution_count": 30,
   "id": "48027df6",
   "metadata": {},
   "outputs": [
    {
     "data": {
      "text/plain": [
       "array([[0, 1, 2],\n",
       "       [3, 4, 5],\n",
       "       [6, 7, 8]])"
      ]
     },
     "execution_count": 30,
     "metadata": {},
     "output_type": "execute_result"
    }
   ],
   "source": [
    "# 15.\tCreate a 3*3 numpy matrix, filled with values ranging from 0 to 8\n",
    "ranging_matrix= np.arange(9).reshape(3,3)\n",
    "ranging_matrix"
   ]
  },
  {
   "cell_type": "code",
   "execution_count": 34,
   "id": "381c2d9c",
   "metadata": {},
   "outputs": [
    {
     "data": {
      "text/plain": [
       "'A'"
      ]
     },
     "execution_count": 34,
     "metadata": {},
     "output_type": "execute_result"
    }
   ],
   "source": [
    "#Array indexing:\n",
    "# 1.\tGiven the X numpy array, show its first element\n",
    "\n",
    "#X = np.array(['A','B','C','D','E'])\n",
    "\n",
    "X=np.array(['A','B','C','D','E'])\n",
    "first_element = X[0]\n",
    "first_element\n"
   ]
  },
  {
   "cell_type": "code",
   "execution_count": 36,
   "id": "a65dc8f0",
   "metadata": {},
   "outputs": [
    {
     "data": {
      "text/plain": [
       "'E'"
      ]
     },
     "execution_count": 36,
     "metadata": {},
     "output_type": "execute_result"
    }
   ],
   "source": [
    "# 2.\tGiven the X numpy array, show its last element\n",
    "\n",
    "#X = np.array(['A','B','C','D','E'])\n",
    "last_element=X[4]\n",
    "last_element\n",
    "\n",
    "\n"
   ]
  },
  {
   "cell_type": "code",
   "execution_count": 39,
   "id": "728ae02e",
   "metadata": {},
   "outputs": [
    {
     "data": {
      "text/plain": [
       "array(['A', 'B', 'C'], dtype='<U1')"
      ]
     },
     "execution_count": 39,
     "metadata": {},
     "output_type": "execute_result"
    }
   ],
   "source": [
    "# 3.\tGiven the X numpy array, show its first three elements\n",
    "\n",
    "#X = np.array(['A','B','C','D','E'])\n",
    "first_three_element= X[:3]\n",
    "first_three_element"
   ]
  },
  {
   "cell_type": "code",
   "execution_count": 40,
   "id": "9c8be78f",
   "metadata": {},
   "outputs": [
    {
     "data": {
      "text/plain": [
       "array(['B', 'C', 'D'], dtype='<U1')"
      ]
     },
     "execution_count": 40,
     "metadata": {},
     "output_type": "execute_result"
    }
   ],
   "source": [
    "# 4.\tGiven the X numpy array, show all middle elements\n",
    "\n",
    "#X = np.array(['A','B','C','D','E'])\n",
    "middle_element=X[1:-1]\n",
    "middle_element\n"
   ]
  },
  {
   "cell_type": "code",
   "execution_count": 41,
   "id": "df61b5b8",
   "metadata": {},
   "outputs": [
    {
     "data": {
      "text/plain": [
       "array(['E', 'D', 'C', 'B', 'A'], dtype='<U1')"
      ]
     },
     "execution_count": 41,
     "metadata": {},
     "output_type": "execute_result"
    }
   ],
   "source": [
    "# 5.\tGiven the X numpy array, show the elements in reverse position.\n",
    "\n",
    "#X = np.array(['A','B','C','D','E'])\n",
    "reverse_array=X[::-1]\n",
    "reverse_array\n",
    "\n"
   ]
  },
  {
   "cell_type": "code",
   "execution_count": 45,
   "id": "ae0a4d97",
   "metadata": {},
   "outputs": [
    {
     "data": {
      "text/plain": [
       "array(['A', 'C', 'E'], dtype='<U1')"
      ]
     },
     "execution_count": 45,
     "metadata": {},
     "output_type": "execute_result"
    }
   ],
   "source": [
    "#6.\tGiven the X numpy array, show the elements in an odd position.\n",
    "\n",
    "#X = np.array(['A','B','C','D','E'])\n",
    "\n",
    "odd_array= X[::2]\n",
    "odd_array\n"
   ]
  },
  {
   "cell_type": "code",
   "execution_count": 7,
   "id": "5cbfeb62",
   "metadata": {},
   "outputs": [
    {
     "data": {
      "text/plain": [
       "array([1, 2, 3, 4])"
      ]
     },
     "execution_count": 7,
     "metadata": {},
     "output_type": "execute_result"
    }
   ],
   "source": [
    "#7.\tGiven the X numpy matrix, show the first row’s elements.\n",
    "\n",
    "#X = np.array([\n",
    "   # [1,   2,  3,  4],\n",
    "   # [5,   6,  7,  8],\n",
    "   # [9,  10, 11, 12],\n",
    "   # [13, 14, 15, 16]\n",
    "#])\n",
    "\n",
    "\n",
    "\n",
    "X = np.array([\n",
    "    [1, 2, 3, 4],\n",
    "    [5, 6, 7, 8],\n",
    "    [9, 10, 11, 12],\n",
    "    [13, 14, 15, 16]\n",
    "])\n",
    "\n",
    "first_row_elements = X[0]\n",
    "first_row_elements\n",
    "\n",
    "\n"
   ]
  },
  {
   "cell_type": "code",
   "execution_count": 8,
   "id": "1450c3ab",
   "metadata": {},
   "outputs": [
    {
     "data": {
      "text/plain": [
       "array([13, 14, 15, 16])"
      ]
     },
     "execution_count": 8,
     "metadata": {},
     "output_type": "execute_result"
    }
   ],
   "source": [
    "#8.\tGiven the X numpy matrix, show the last row elements.\n",
    "\n",
    "#X = np.array([\n",
    "    #[1,   2,  3,  4],\n",
    "    #[5,   6,  7,  8],\n",
    "    #[9,  10, 11, 12],\n",
    "    #[13, 14, 15, 16]\n",
    "#])\n",
    "\n",
    "X = np.array([\n",
    "    [1,   2,  3,  4],\n",
    "    [5,   6,  7,  8],\n",
    "    [9,  10, 11, 12],\n",
    "    [13, 14, 15, 16]\n",
    "])\n",
    "\n",
    "last_row_element= X[3]\n",
    "last_row_element\n",
    "\n"
   ]
  },
  {
   "cell_type": "code",
   "execution_count": 9,
   "id": "e9b1b75c",
   "metadata": {},
   "outputs": [
    {
     "data": {
      "text/plain": [
       "2"
      ]
     },
     "execution_count": 9,
     "metadata": {},
     "output_type": "execute_result"
    }
   ],
   "source": [
    "#9.\tGiven the X numpy matrix, show the first element on first row\n",
    "\n",
    "X = np.array([\n",
    "    [1, 2, 3, 4],\n",
    "    [5, 6, 7, 8],\n",
    "    [9, 10, 11, 12],\n",
    "    [13, 14, 15, 16]\n",
    "])\n",
    "first_element_first_row= X[0,1]\n",
    "first_element_first_row\n"
   ]
  },
  {
   "cell_type": "code",
   "execution_count": 6,
   "id": "04478067",
   "metadata": {},
   "outputs": [
    {
     "data": {
      "text/plain": [
       "16"
      ]
     },
     "execution_count": 6,
     "metadata": {},
     "output_type": "execute_result"
    }
   ],
   "source": [
    "#10.\tGiven the X numpy matrix, show the last element on last row.\n",
    "\n",
    "\n",
    "X = np.array([\n",
    "    [1, 2, 3, 4],\n",
    "    [5, 6, 7, 8],\n",
    "    [9, 10, 11, 12],\n",
    "    [13, 14, 15, 16]\n",
    "])\n",
    "\n",
    "\n",
    "last_element_last_row = X[3,3]\n",
    "last_element_last_row\n",
    "\n"
   ]
  },
  {
   "cell_type": "code",
   "execution_count": 7,
   "id": "8c79d885",
   "metadata": {},
   "outputs": [
    {
     "data": {
      "text/plain": [
       "array([[1, 2],\n",
       "       [5, 6]])"
      ]
     },
     "execution_count": 7,
     "metadata": {},
     "output_type": "execute_result"
    }
   ],
   "source": [
    "#11.\tGiven the X numpy matrix, show the first two elements on the first two rows.\n",
    "\n",
    "X = np.array([\n",
    "    [1,   2,  3,  4],\n",
    "    [5,   6,  7,  8],\n",
    "    [9,  10, 11, 12],\n",
    "    [13, 14, 15, 16]\n",
    "])\n",
    "first_two_first_two_rows= X[:2,:2]\n",
    "first_two_first_two_rows\n",
    "    \n"
   ]
  },
  {
   "cell_type": "code",
   "execution_count": 9,
   "id": "01547532",
   "metadata": {},
   "outputs": [
    {
     "data": {
      "text/plain": [
       "array([[11, 12],\n",
       "       [15, 16]])"
      ]
     },
     "execution_count": 9,
     "metadata": {},
     "output_type": "execute_result"
    }
   ],
   "source": [
    "# 12.\tGiven the X numpy matrix, show the last two elements on the last two rows\n",
    "\n",
    "X = np.array([\n",
    "    [1,   2,  3,  4],\n",
    "    [5,   6,  7,  8],\n",
    "    [9,  10, 11, 12],\n",
    "    [13, 14, 15, 16]\n",
    "])\n",
    "last_two_last_two_rows= X[2:,2:]\n",
    "last_two_last_two_rows\n",
    "    \n"
   ]
  },
  {
   "cell_type": "code",
   "execution_count": 11,
   "id": "f6adf9cc",
   "metadata": {},
   "outputs": [
    {
     "data": {
      "text/plain": [
       "array([-5., -3.,  0., 10., 40.])"
      ]
     },
     "execution_count": 11,
     "metadata": {},
     "output_type": "execute_result"
    }
   ],
   "source": [
    "# Array manipulation\n",
    "#1.\tConvert the given integer numpy array to float (you need to google the function that will help you do this)\n",
    "\n",
    "X = np.array([-5, -3, 0, 10, 40])\n",
    "X_float = X.astype(float)\n",
    "X_float\n"
   ]
  },
  {
   "cell_type": "code",
   "execution_count": 16,
   "id": "426c5396",
   "metadata": {},
   "outputs": [
    {
     "data": {
      "text/plain": [
       "[40, 10, 0, -3, -5]"
      ]
     },
     "execution_count": 16,
     "metadata": {},
     "output_type": "execute_result"
    }
   ],
   "source": [
    "# 2.\tReverse the given numpy array (first element becomes last) through indexing\n",
    "\n",
    "X = [-5, -3, 0, 10, 40]\n",
    "reverse_array= X[::-1]\n",
    "reverse_array\n"
   ]
  },
  {
   "cell_type": "code",
   "execution_count": 17,
   "id": "b861517b",
   "metadata": {},
   "outputs": [
    {
     "data": {
      "text/plain": [
       "array([0., 0., 0., 0., 1., 0., 0., 0., 0., 0.])"
      ]
     },
     "execution_count": 17,
     "metadata": {},
     "output_type": "execute_result"
    }
   ],
   "source": [
    "#3.\tGiven the X numpy array, set the fifth element equal to 1\n",
    "\n",
    "X = np.zeros(10)\n",
    "X[4]=1\n",
    "X"
   ]
  },
  {
   "cell_type": "code",
   "execution_count": 18,
   "id": "32290b70",
   "metadata": {},
   "outputs": [
    {
     "data": {
      "text/plain": [
       "array([[ 1,  2,  3,  4],\n",
       "       [ 5,  6,  7,  8],\n",
       "       [ 9, 10, 11, 12],\n",
       "       [ 1,  1,  1,  1]])"
      ]
     },
     "execution_count": 18,
     "metadata": {},
     "output_type": "execute_result"
    }
   ],
   "source": [
    "#4.\tGiven the X numpy matrix, change the last row with all 1\n",
    "\n",
    "X = np.array([\n",
    "    [1,   2,  3,  4],\n",
    "    [5,   6,  7,  8],\n",
    "    [9,  10, 11, 12],\n",
    "    [13, 14, 15, 16]\n",
    "])\n",
    "\n",
    "X[3]=1\n",
    "X"
   ]
  },
  {
   "cell_type": "code",
   "execution_count": 19,
   "id": "84d29fe8",
   "metadata": {},
   "outputs": [
    {
     "data": {
      "text/plain": [
       "array([[ 6,  7,  8,  9],\n",
       "       [10, 11, 12, 13],\n",
       "       [14, 15, 16, 17],\n",
       "       [18, 19, 20, 21]])"
      ]
     },
     "execution_count": 19,
     "metadata": {},
     "output_type": "execute_result"
    }
   ],
   "source": [
    "#5.\tGiven the X numpy matrix, add 5 to every element\n",
    "\n",
    "X = np.array([\n",
    "    [1,   2,  3,  4],\n",
    "    [5,   6,  7,  8],\n",
    "    [9,  10, 11, 12],\n",
    "    [13, 14, 15, 16]\n",
    "])\n",
    "\n",
    "X+=5\n",
    "X"
   ]
  },
  {
   "cell_type": "code",
   "execution_count": null,
   "id": "38e5484f",
   "metadata": {},
   "outputs": [],
   "source": []
  }
 ],
 "metadata": {
  "kernelspec": {
   "display_name": "Python 3 (ipykernel)",
   "language": "python",
   "name": "python3"
  },
  "language_info": {
   "codemirror_mode": {
    "name": "ipython",
    "version": 3
   },
   "file_extension": ".py",
   "mimetype": "text/x-python",
   "name": "python",
   "nbconvert_exporter": "python",
   "pygments_lexer": "ipython3",
   "version": "3.11.4"
  }
 },
 "nbformat": 4,
 "nbformat_minor": 5
}
