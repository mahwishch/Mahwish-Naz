{
 "cells": [
  {
   "cell_type": "code",
   "execution_count": null,
   "id": "19127097",
   "metadata": {},
   "outputs": [
    {
     "name": "stdout",
     "output_type": "stream",
     "text": [
      "--- Welcome to the Guessing Game! ---\n",
      "Guess the secret number (1-50): 45\n",
      "Try again! Your guess is too low. You have 4 attempts left.\n",
      "Guess the secret number (1-50): 34\n",
      "Try again! Your guess is too low. You have 3 attempts left.\n",
      "Guess the secret number (1-50): 78\n",
      "Try again! Your guess is too high. You have 2 attempts left.\n"
     ]
    }
   ],
   "source": [
    "from random import randint\n",
    "\n",
    "# 1: the program will generate a random number between 1 and 50 and store it in a variable called \"secret_number.\" For this, you will need to import randint() from the random library in python. Run the following line of code in a cell:\n",
    "from random import randint\n",
    "\n",
    "secret_number = randint(1, 50)\n",
    "attempts = 5\n",
    "print(\"--- Welcome to the Guessing Game! ---\")\n",
    "# 2.\tThe user will be given 5 attempts to guess the \"secret_number.\"\n",
    "while attempts > 0:\n",
    "    try:\n",
    "# 3.\tThe program will use a while loop to repeatedly ask the user for their guess and provide feedback based on their input. (Remember that input() returns a string even if the user enters a number.) \n",
    "\n",
    "        user_input = input(\"Guess the secret number (1-50): \")\n",
    "        user_guess = int(user_input)\n",
    "    except ValueError:\n",
    "# 4.\tFirst, handle the case where the user enters a non-numeric input. For this, you will need to add a try/except block. Google the syntax and under the try block, convert the guess into an int. If the entry is non-numeric, this conversion should fail and python will go to the except block. Under the except block, handle this error by printing \"Invalid input! Please enter a valid number” and utilize the continue statement to allow the user to try again without reducing their remaining attempts.\n",
    "\n",
    "        print(\"Invalid input! Please enter a valid number.\")\n",
    "        continue\n",
    "\n",
    "    if user_guess == secret_number:\n",
    "# 5.\tIf the user guesses the correct number, print \"Congratulations! You guessed the secret number [secret_number] correctly!\" and break out of the loop.\n",
    "        print(f\"--- Second Chance! ---\")\n",
    "        print(f\"Congratulations! You guessed the secret number {secret_number} correctly!\")\n",
    "        break\n",
    "    elif user_guess > secret_number:\n",
    "# 6.\tIf the user's guess is too high, print \"Try again! Your guess is too high. You have [attempts_left] attempts left.\" where \"attempts_left\" is the number of remaining attempts.\n",
    "\n",
    "        attempts-= 1\n",
    "        if attempts > 0:\n",
    "            print(f\"Try again! Your guess is too high. You have {attempts} attempts left.\")\n",
    "        else:\n",
    "            print(f\"Game Over! The secret number was {secret_number}. Better luck next time!\")\n",
    "            break\n",
    "    else:\n",
    "#7.\tIf the user's guess is too low, print \"Try again! Your guess is too low. You have [attempts_left] attempts left.\"\n",
    "\n",
    "        attempts-= 1\n",
    "        if attempts > 0:\n",
    "            print(f\"Try again! Your guess is too low. You have {attempts} attempts left.\")\n",
    "        else:\n",
    "            print(f\"Game Over! The secret number was {secret_number}. Better luck next time!\")\n",
    "            break\n",
    "            \n",
    "            "
   ]
  },
  {
   "cell_type": "code",
   "execution_count": null,
   "id": "0f0b20c6",
   "metadata": {},
   "outputs": [],
   "source": []
  },
  {
   "cell_type": "code",
   "execution_count": 1,
   "id": "e4d588cf",
   "metadata": {},
   "outputs": [
    {
     "name": "stdout",
     "output_type": "stream",
     "text": [
      "a: Number of vowels in the string: 10\n",
      "b: 2.5 hours is equal to 150.0 minutes.\n",
      "c: Multiplication table for 8:\n",
      "1 x 8 = 8\n",
      "2 x 8 = 16\n",
      "3 x 8 = 24\n",
      "4 x 8 = 32\n",
      "5 x 8 = 40\n",
      "6 x 8 = 48\n",
      "7 x 8 = 56\n",
      "8 x 8 = 64\n",
      "9 x 8 = 72\n",
      "10 x 8 = 80\n",
      "11 x 8 = 88\n",
      "12 x 8 = 96\n",
      "d: Student eligibility test results:\n",
      "Result 1: True\n",
      "Result 2: False\n"
     ]
    }
   ],
   "source": [
    "#Task 2:\n",
    "# a)\tWrite a function called num_vowels that takes in a string as an argument, and returns the number of vowels in that string. Print out the result for the string “Learning Python is fun and engaging.”\n",
    "\n",
    "input_string = \"Learning Python is fun and engaging.\"\n",
    "vowel_count = 0\n",
    "vowels = \"aeiouAEIOU\"\n",
    "\n",
    "for char in input_string:\n",
    "    if char in vowels:\n",
    "        vowel_count += 1\n",
    "\n",
    "print(\"a: Number of vowels in the string:\", vowel_count)\n",
    "\n",
    "# b)\tCreate a function called hours_to_min that converts hours into minutes. The function should take the number of hours as input and return the equivalent number of minutes. Test the function with 2.5 hours and print the result.\n",
    "\n",
    "hours_input = 2.5\n",
    "minutes_result = hours_input * 60\n",
    "print(\"b: {} hours is equal to {} minutes.\".format(hours_input, minutes_result))\n",
    "\n",
    "# c)\tWrite a python function that takes in a number as an argument, and prints out the table of that number up to 12 times that number. You may name this whatever you wish. \n",
    "#Sample output:\n",
    "\n",
    "number_to_print = 8\n",
    "print(\"c: Multiplication table for {}:\".format(number_to_print))\n",
    "for i in range(1, 13):\n",
    "    result = number_to_print * i\n",
    "    print(\"{} x {} = {}\".format(i, number_to_print, result))\n",
    "\n",
    "#d)\tIn your previous assignment, you wrote code that checks if a student is eligible for admission to a university. Turn that code into a function called eligibility. The function should take two arguments: the student's age and their previous GPA. The eligibility criteria are as follows:\n",
    "#The student must be at least 18 years old.\n",
    "#The student's previous GPA must be 3.0 or higher on a scale of 4.0.\n",
    "#The function should return True if the student meets both criteria, otherwise, return False. Test the function with different ages and GPAs with and without keywords for example:\n",
    "#eligibility(30, 3.2) [will depend on which order you provided the positional arguments in the definition]\n",
    "#eligibility(GPA = 2.9, age = 40)\n",
    "\n",
    "\n",
    "def eligibility(age, GPA):\n",
    "    return age >= 18 and GPA >= 3.0\n",
    "\n",
    "result1 = eligibility(30, 3.2)\n",
    "result2 = eligibility(age=40, GPA=2.9)\n",
    "\n",
    "print(\"d: Student eligibility test results:\")\n",
    "print(\"Result 1:\", result1)\n",
    "print(\"Result 2:\", result2)\n"
   ]
  },
  {
   "cell_type": "code",
   "execution_count": null,
   "id": "0cf47523",
   "metadata": {},
   "outputs": [],
   "source": []
  }
 ],
 "metadata": {
  "kernelspec": {
   "display_name": "Python 3 (ipykernel)",
   "language": "python",
   "name": "python3"
  },
  "language_info": {
   "codemirror_mode": {
    "name": "ipython",
    "version": 3
   },
   "file_extension": ".py",
   "mimetype": "text/x-python",
   "name": "python",
   "nbconvert_exporter": "python",
   "pygments_lexer": "ipython3",
   "version": "3.11.4"
  }
 },
 "nbformat": 4,
 "nbformat_minor": 5
}
