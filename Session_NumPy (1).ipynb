{
  "cells": [
    {
      "cell_type": "markdown",
      "id": "2c37fe8a",
      "metadata": {
        "id": "2c37fe8a"
      },
      "source": [
        "##### Numpy: Numeric computing library\n",
        "\n",
        "NumPy (Numerical Python) is one of the core packages for performing complex mathematical operations. Pandas, Matplotlib, Statmodels and many other Scientific libraries rely on NumPy.\n",
        "\n",
        "1. Initializing the NumPy arrays\n",
        "2. Accessing elements\n",
        "3. Array types\n",
        "4. Array Dimensions and Shapes\n",
        "5. Indexing and Slicing of Matrices\n",
        "6. Statistics functions\n",
        "7. Broadcasting and Vectorized operations\n",
        "8. Useful Numpy functions"
      ]
    },
    {
      "cell_type": "code",
      "execution_count": null,
      "id": "34c223a0",
      "metadata": {
        "id": "34c223a0"
      },
      "outputs": [],
      "source": [
        "import sys\n",
        "import numpy as np"
      ]
    },
    {
      "cell_type": "code",
      "execution_count": null,
      "id": "8d33679b",
      "metadata": {
        "id": "8d33679b",
        "outputId": "0ba8daaa-fa33-4add-811d-f5509c8b5e21"
      },
      "outputs": [
        {
          "data": {
            "text/plain": [
              "array([1, 2, 3, 4])"
            ]
          },
          "execution_count": 3,
          "metadata": {},
          "output_type": "execute_result"
        }
      ],
      "source": [
        "# Basic Numpy Arrays\n",
        "np.array([1, 2, 3, 4])"
      ]
    },
    {
      "cell_type": "code",
      "execution_count": null,
      "id": "7854f588",
      "metadata": {
        "id": "7854f588"
      },
      "outputs": [],
      "source": [
        "a = np.array([1, 2, 3, 4, 5, 6, 7, 8, 9, 10])"
      ]
    },
    {
      "cell_type": "code",
      "execution_count": null,
      "id": "6890c78c",
      "metadata": {
        "id": "6890c78c",
        "outputId": "48e2c8af-b4c3-41fd-8336-a2b8dfea8307"
      },
      "outputs": [
        {
          "data": {
            "text/plain": [
              "(1, 2)"
            ]
          },
          "execution_count": 9,
          "metadata": {},
          "output_type": "execute_result"
        }
      ],
      "source": [
        "# access the individual elements of array a\n",
        "a[0], a[1]"
      ]
    },
    {
      "cell_type": "code",
      "execution_count": null,
      "id": "60a22263",
      "metadata": {
        "id": "60a22263",
        "outputId": "b0228420-9477-466e-9da5-a7d988d2bfab"
      },
      "outputs": [
        {
          "data": {
            "text/plain": [
              "array([ 1,  2,  3,  4,  5,  6,  7,  8,  9, 10])"
            ]
          },
          "execution_count": 15,
          "metadata": {},
          "output_type": "execute_result"
        }
      ],
      "source": [
        "#access all elements\n",
        "a[0:]"
      ]
    },
    {
      "cell_type": "code",
      "execution_count": null,
      "id": "f4aa29b9",
      "metadata": {
        "id": "f4aa29b9",
        "outputId": "d76aa6af-2193-4d09-a577-afda198913ec"
      },
      "outputs": [
        {
          "data": {
            "text/plain": [
              "array([2, 3, 4, 5, 6])"
            ]
          },
          "execution_count": 16,
          "metadata": {},
          "output_type": "execute_result"
        }
      ],
      "source": [
        "#access from 2nd till 5th element\n",
        "a[1:6]"
      ]
    },
    {
      "cell_type": "code",
      "execution_count": null,
      "id": "707e258f",
      "metadata": {
        "id": "707e258f",
        "outputId": "766a775a-db7f-43e6-8c3e-7cefbd87ce29"
      },
      "outputs": [
        {
          "data": {
            "text/plain": [
              "array([2, 3, 4, 5, 6, 7, 8, 9])"
            ]
          },
          "execution_count": 17,
          "metadata": {},
          "output_type": "execute_result"
        }
      ],
      "source": [
        "#negative indexing can be used to access elements from the end\n",
        "\n",
        "a[1:-1]"
      ]
    },
    {
      "cell_type": "code",
      "execution_count": null,
      "id": "eb95aee2",
      "metadata": {
        "id": "eb95aee2",
        "outputId": "f1e2ae9b-6d51-442f-ccaf-80b559c75a47"
      },
      "outputs": [
        {
          "data": {
            "text/plain": [
              "array([ 2,  4,  6,  8, 10])"
            ]
          },
          "execution_count": 20,
          "metadata": {},
          "output_type": "execute_result"
        }
      ],
      "source": [
        "# access the elements step wise [start-index:end-index:step]\n",
        "\n",
        "a[1::2]"
      ]
    },
    {
      "cell_type": "code",
      "execution_count": null,
      "id": "fcc20981",
      "metadata": {
        "id": "fcc20981",
        "outputId": "2c124983-81f2-4ed3-edcb-2144cc436cf3"
      },
      "outputs": [
        {
          "data": {
            "text/plain": [
              "dtype('int32')"
            ]
          },
          "execution_count": 21,
          "metadata": {},
          "output_type": "execute_result"
        }
      ],
      "source": [
        "# Array Types\n",
        "\n",
        "a.dtype"
      ]
    },
    {
      "cell_type": "code",
      "execution_count": null,
      "id": "69dbb248",
      "metadata": {
        "id": "69dbb248",
        "outputId": "d92e3dcc-a87b-4c5f-b6df-7323c0ef57c6"
      },
      "outputs": [
        {
          "data": {
            "text/plain": [
              "dtype('float64')"
            ]
          },
          "execution_count": 23,
          "metadata": {},
          "output_type": "execute_result"
        }
      ],
      "source": [
        "b = np.array([0, .5, 1, 1.5, 2])\n",
        "b.dtype"
      ]
    },
    {
      "cell_type": "code",
      "execution_count": null,
      "id": "9477d701",
      "metadata": {
        "id": "9477d701",
        "outputId": "4632dc24-6ec4-4142-8f6d-a81bbd54db86"
      },
      "outputs": [
        {
          "data": {
            "text/plain": [
              "array([1., 2., 3., 4.])"
            ]
          },
          "execution_count": 25,
          "metadata": {},
          "output_type": "execute_result"
        }
      ],
      "source": [
        "#change data type\n",
        "\n",
        "np.array([1, 2, 3, 4], dtype=float)"
      ]
    },
    {
      "cell_type": "code",
      "execution_count": null,
      "id": "f38f95d5",
      "metadata": {
        "id": "f38f95d5"
      },
      "outputs": [],
      "source": [
        "# Array Dimensions and shapes\n",
        "\n",
        "A = np.array([\n",
        "    [1, 2, 3],\n",
        "    [4, 5, 6]\n",
        "])"
      ]
    },
    {
      "cell_type": "code",
      "execution_count": null,
      "id": "074dbb97",
      "metadata": {
        "id": "074dbb97",
        "outputId": "e95ad7f8-90eb-4ec5-a465-e5b7a54432e0"
      },
      "outputs": [
        {
          "data": {
            "text/plain": [
              "(2, 3)"
            ]
          },
          "execution_count": 27,
          "metadata": {},
          "output_type": "execute_result"
        }
      ],
      "source": [
        "# A is an array having 2 rows and 3 columns\n",
        "A.shape"
      ]
    },
    {
      "cell_type": "code",
      "execution_count": null,
      "id": "abd3e5a3",
      "metadata": {
        "id": "abd3e5a3",
        "outputId": "4c9ca52e-4e74-4098-8d22-471cd3004090"
      },
      "outputs": [
        {
          "data": {
            "text/plain": [
              "2"
            ]
          },
          "execution_count": 28,
          "metadata": {},
          "output_type": "execute_result"
        }
      ],
      "source": [
        "#check the dimensions of array A\n",
        "\n",
        "A.ndim"
      ]
    },
    {
      "cell_type": "code",
      "execution_count": null,
      "id": "ec7aa7a3",
      "metadata": {
        "id": "ec7aa7a3",
        "outputId": "145e64d9-ef01-4ed2-9768-1694f3160653"
      },
      "outputs": [
        {
          "data": {
            "text/plain": [
              "6"
            ]
          },
          "execution_count": 29,
          "metadata": {},
          "output_type": "execute_result"
        }
      ],
      "source": [
        "#Check the no. of elements in array A\n",
        "A.size"
      ]
    },
    {
      "cell_type": "code",
      "execution_count": null,
      "id": "4d08f45b",
      "metadata": {
        "id": "4d08f45b"
      },
      "outputs": [],
      "source": [
        "B = np.array([\n",
        "    [\n",
        "        [12, 11, 10],\n",
        "        [9, 8, 7],\n",
        "    ],\n",
        "    [\n",
        "        [6, 5, 4],\n",
        "        [3, 2, 1]\n",
        "    ]\n",
        "])"
      ]
    },
    {
      "cell_type": "code",
      "execution_count": null,
      "id": "3b44b237",
      "metadata": {
        "id": "3b44b237",
        "outputId": "804503fe-9966-4af0-ed91-755bdf352446"
      },
      "outputs": [
        {
          "data": {
            "text/plain": [
              "(2, 2, 3)"
            ]
          },
          "execution_count": 32,
          "metadata": {},
          "output_type": "execute_result"
        }
      ],
      "source": [
        "B.shape"
      ]
    },
    {
      "cell_type": "code",
      "execution_count": null,
      "id": "5797c81e",
      "metadata": {
        "id": "5797c81e",
        "outputId": "a172f992-7c6e-4b4e-fa3f-cb745fe5521e"
      },
      "outputs": [
        {
          "data": {
            "text/plain": [
              "3"
            ]
          },
          "execution_count": 33,
          "metadata": {},
          "output_type": "execute_result"
        }
      ],
      "source": [
        "B.ndim"
      ]
    },
    {
      "cell_type": "code",
      "execution_count": null,
      "id": "c7de97c9",
      "metadata": {
        "id": "c7de97c9",
        "outputId": "1f682c9c-766f-4fa6-d66e-47a3258b7f36"
      },
      "outputs": [
        {
          "data": {
            "text/plain": [
              "12"
            ]
          },
          "execution_count": 34,
          "metadata": {},
          "output_type": "execute_result"
        }
      ],
      "source": [
        "B.size"
      ]
    },
    {
      "cell_type": "code",
      "execution_count": null,
      "id": "540333dd",
      "metadata": {
        "id": "540333dd",
        "outputId": "98c7ec75-d0f3-496e-8cf0-8b2d22c9f9e0"
      },
      "outputs": [
        {
          "name": "stderr",
          "output_type": "stream",
          "text": [
            "C:\\Users\\hassan\\AppData\\Local\\Temp\\ipykernel_24384\\3613905410.py:3: VisibleDeprecationWarning: Creating an ndarray from ragged nested sequences (which is a list-or-tuple of lists-or-tuples-or ndarrays with different lengths or shapes) is deprecated. If you meant to do this, you must specify 'dtype=object' when creating the ndarray.\n",
            "  C = np.array([\n"
          ]
        }
      ],
      "source": [
        "#If the shape isn't consistent, it'll just fall back to regular Python objects:\n",
        "\n",
        "C = np.array([\n",
        "    [\n",
        "        [12, 11, 10],\n",
        "        [9, 8, 7],\n",
        "    ],\n",
        "    [\n",
        "        [6, 5, 4]\n",
        "    ]\n",
        "])"
      ]
    },
    {
      "cell_type": "code",
      "execution_count": null,
      "id": "db01acb1",
      "metadata": {
        "id": "db01acb1",
        "outputId": "c93f1ecc-4e82-4590-8384-5b25f0867a87"
      },
      "outputs": [
        {
          "data": {
            "text/plain": [
              "dtype('O')"
            ]
          },
          "execution_count": 37,
          "metadata": {},
          "output_type": "execute_result"
        }
      ],
      "source": [
        "C.dtype"
      ]
    },
    {
      "cell_type": "code",
      "execution_count": null,
      "id": "dd1232b6",
      "metadata": {
        "id": "dd1232b6"
      },
      "outputs": [],
      "source": [
        "# Indexing and Slicing of Matrices\n",
        "\n",
        "# Square matrix\n",
        "A = np.array([\n",
        "#.   0. 1. 2\n",
        "    [1, 2, 3], # 0\n",
        "    [4, 5, 6], # 1\n",
        "    [7, 8, 9]  # 2\n",
        "])"
      ]
    },
    {
      "cell_type": "code",
      "execution_count": null,
      "id": "8aea6408",
      "metadata": {
        "id": "8aea6408",
        "outputId": "e45a5210-6ce7-4e00-c4e0-132fc1d2a39b"
      },
      "outputs": [
        {
          "data": {
            "text/plain": [
              "array([4, 5, 6])"
            ]
          },
          "execution_count": 39,
          "metadata": {},
          "output_type": "execute_result"
        }
      ],
      "source": [
        "#accessing row 2\n",
        "\n",
        "A[1]"
      ]
    },
    {
      "cell_type": "code",
      "execution_count": null,
      "id": "93b7d031",
      "metadata": {
        "id": "93b7d031",
        "outputId": "7f949d4b-1a4e-4a25-a20d-5ae58b6e287a"
      },
      "outputs": [
        {
          "data": {
            "text/plain": [
              "4"
            ]
          },
          "execution_count": 41,
          "metadata": {},
          "output_type": "execute_result"
        }
      ],
      "source": [
        "#accessing elements from row 2\n",
        "A[1][0]"
      ]
    },
    {
      "cell_type": "code",
      "execution_count": null,
      "id": "1cb3fdf6",
      "metadata": {
        "id": "1cb3fdf6",
        "outputId": "5763fe3a-82e0-4839-cc33-553ae22b42f5"
      },
      "outputs": [
        {
          "data": {
            "text/plain": [
              "4"
            ]
          },
          "execution_count": 42,
          "metadata": {},
          "output_type": "execute_result"
        }
      ],
      "source": [
        "# [row, col]\n",
        "\n",
        "A[1, 0]"
      ]
    },
    {
      "cell_type": "code",
      "execution_count": null,
      "id": "85053755",
      "metadata": {
        "id": "85053755",
        "outputId": "69620119-592f-43ee-bf75-99abb791fa24"
      },
      "outputs": [
        {
          "data": {
            "text/plain": [
              "array([[1, 2, 3],\n",
              "       [4, 5, 6]])"
            ]
          },
          "execution_count": 43,
          "metadata": {},
          "output_type": "execute_result"
        }
      ],
      "source": [
        "# accessing rows from 0-2, where 2 is not included\n",
        "\n",
        "A[0:2]"
      ]
    },
    {
      "cell_type": "code",
      "execution_count": null,
      "id": "e4bbbdae",
      "metadata": {
        "id": "e4bbbdae",
        "outputId": "c0896691-ec14-4514-e490-c666de7f76cf"
      },
      "outputs": [
        {
          "data": {
            "text/plain": [
              "array([[1, 2],\n",
              "       [4, 5],\n",
              "       [7, 8]])"
            ]
          },
          "execution_count": 44,
          "metadata": {},
          "output_type": "execute_result"
        }
      ],
      "source": [
        "# [row start:end, col start:end]\n",
        "\n",
        "A[:, :2]"
      ]
    },
    {
      "cell_type": "code",
      "execution_count": null,
      "id": "faf0bc0c",
      "metadata": {
        "id": "faf0bc0c",
        "outputId": "6e16b66f-7249-401f-d2c3-2abcd0d81100"
      },
      "outputs": [
        {
          "data": {
            "text/plain": [
              "array([[1, 2],\n",
              "       [4, 5]])"
            ]
          },
          "execution_count": 45,
          "metadata": {},
          "output_type": "execute_result"
        }
      ],
      "source": [
        "# accessing only first 2 rows and 2 col\n",
        "\n",
        "A[:2, :2]"
      ]
    },
    {
      "cell_type": "code",
      "execution_count": null,
      "id": "a4643efc",
      "metadata": {
        "id": "a4643efc",
        "outputId": "2181ae69-2078-4474-9e66-20759fffe512"
      },
      "outputs": [
        {
          "data": {
            "text/plain": [
              "array([[3],\n",
              "       [6]])"
            ]
          },
          "execution_count": 46,
          "metadata": {},
          "output_type": "execute_result"
        }
      ],
      "source": [
        "#accessing last columns of first 2 rows\n",
        "\n",
        "A[:2, 2:]"
      ]
    },
    {
      "cell_type": "code",
      "execution_count": null,
      "id": "4bb806db",
      "metadata": {
        "id": "4bb806db",
        "outputId": "31657684-1d3e-42cc-e1f0-fcfa494fc257"
      },
      "outputs": [
        {
          "data": {
            "text/plain": [
              "array([[1, 2, 3],\n",
              "       [4, 5, 6],\n",
              "       [7, 8, 9]])"
            ]
          },
          "execution_count": 47,
          "metadata": {},
          "output_type": "execute_result"
        }
      ],
      "source": [
        "A"
      ]
    },
    {
      "cell_type": "code",
      "execution_count": null,
      "id": "4243042d",
      "metadata": {
        "id": "4243042d"
      },
      "outputs": [],
      "source": [
        "#updating values at position A[1]\n",
        "\n",
        "A[1] = np.array([10, 10, 10])"
      ]
    },
    {
      "cell_type": "code",
      "execution_count": null,
      "id": "a780d1ef",
      "metadata": {
        "id": "a780d1ef",
        "outputId": "f7ca7aa6-b6d6-414b-9077-03e0e0fbcf1d"
      },
      "outputs": [
        {
          "data": {
            "text/plain": [
              "array([[ 1,  2,  3],\n",
              "       [10, 10, 10],\n",
              "       [ 7,  8,  9]])"
            ]
          },
          "execution_count": 49,
          "metadata": {},
          "output_type": "execute_result"
        }
      ],
      "source": [
        "A"
      ]
    },
    {
      "cell_type": "code",
      "execution_count": null,
      "id": "b0b47370",
      "metadata": {
        "id": "b0b47370"
      },
      "outputs": [],
      "source": [
        "# update the entire row with a scalar value.\n",
        "\n",
        "A[2] = 99"
      ]
    },
    {
      "cell_type": "code",
      "execution_count": null,
      "id": "a160fe2a",
      "metadata": {
        "id": "a160fe2a",
        "outputId": "75c1bdfa-54e7-4116-9991-f58cf4549b68"
      },
      "outputs": [
        {
          "data": {
            "text/plain": [
              "array([[ 1,  2,  3],\n",
              "       [10, 10, 10],\n",
              "       [99, 99, 99]])"
            ]
          },
          "execution_count": 51,
          "metadata": {},
          "output_type": "execute_result"
        }
      ],
      "source": [
        "A"
      ]
    },
    {
      "cell_type": "code",
      "execution_count": null,
      "id": "2dcb73e2",
      "metadata": {
        "id": "2dcb73e2"
      },
      "outputs": [],
      "source": [
        "# Statistics Functions\n",
        "\n",
        "a = np.array([1, 2, 3, 4])"
      ]
    },
    {
      "cell_type": "code",
      "execution_count": null,
      "id": "cd678851",
      "metadata": {
        "id": "cd678851",
        "outputId": "b891315b-6608-4544-a637-6e6b6ae54d41"
      },
      "outputs": [
        {
          "data": {
            "text/plain": [
              "10"
            ]
          },
          "execution_count": 53,
          "metadata": {},
          "output_type": "execute_result"
        }
      ],
      "source": [
        "# add up all values of an array\n",
        "a.sum()"
      ]
    },
    {
      "cell_type": "code",
      "execution_count": null,
      "id": "c6098947",
      "metadata": {
        "id": "c6098947",
        "outputId": "2b532469-2e62-4942-ea49-07183b7ad6a2"
      },
      "outputs": [
        {
          "data": {
            "text/plain": [
              "2.5"
            ]
          },
          "execution_count": 54,
          "metadata": {},
          "output_type": "execute_result"
        }
      ],
      "source": [
        "#calculate mean\n",
        "a.mean()"
      ]
    },
    {
      "cell_type": "code",
      "execution_count": null,
      "id": "bae88aaa",
      "metadata": {
        "id": "bae88aaa",
        "outputId": "99ffbf41-1edb-4f1b-da42-4d2f8baa28c1"
      },
      "outputs": [
        {
          "data": {
            "text/plain": [
              "1.118033988749895"
            ]
          },
          "execution_count": 55,
          "metadata": {},
          "output_type": "execute_result"
        }
      ],
      "source": [
        "#calculate standard deviation\n",
        "a.std()"
      ]
    },
    {
      "cell_type": "code",
      "execution_count": null,
      "id": "723b8087",
      "metadata": {
        "id": "723b8087",
        "outputId": "1e94d013-7cae-4e60-cd49-1a33dbac895a"
      },
      "outputs": [
        {
          "data": {
            "text/plain": [
              "1.25"
            ]
          },
          "execution_count": 56,
          "metadata": {},
          "output_type": "execute_result"
        }
      ],
      "source": [
        "#calculate variance\n",
        "a.var()"
      ]
    },
    {
      "cell_type": "code",
      "execution_count": null,
      "id": "05fbd7f0",
      "metadata": {
        "id": "05fbd7f0",
        "outputId": "8ae8739c-505c-4b30-ad75-ff7bc83edc22"
      },
      "outputs": [
        {
          "data": {
            "text/plain": [
              "45"
            ]
          },
          "execution_count": 57,
          "metadata": {},
          "output_type": "execute_result"
        }
      ],
      "source": [
        "#Example\n",
        "\n",
        "A = np.array([\n",
        "    [1, 2, 3],\n",
        "    [4, 5, 6],\n",
        "    [7, 8, 9]\n",
        "])\n",
        "\n",
        "\n",
        "\n",
        "A.sum()"
      ]
    },
    {
      "cell_type": "code",
      "execution_count": null,
      "id": "439d157b",
      "metadata": {
        "id": "439d157b",
        "outputId": "52cf07e2-e53b-4ae3-8adf-ab02616c2d15"
      },
      "outputs": [
        {
          "data": {
            "text/plain": [
              "5.0"
            ]
          },
          "execution_count": 58,
          "metadata": {},
          "output_type": "execute_result"
        }
      ],
      "source": [
        "A.mean()"
      ]
    },
    {
      "cell_type": "code",
      "execution_count": null,
      "id": "4fccbb1f",
      "metadata": {
        "id": "4fccbb1f",
        "outputId": "afbabfbf-3e4c-4747-9a00-072b89dae67f"
      },
      "outputs": [
        {
          "data": {
            "text/plain": [
              "array([12, 15, 18])"
            ]
          },
          "execution_count": 59,
          "metadata": {},
          "output_type": "execute_result"
        }
      ],
      "source": [
        "#col wise addition\n",
        "\n",
        "A.sum(axis=0)"
      ]
    },
    {
      "cell_type": "code",
      "execution_count": null,
      "id": "230a33de",
      "metadata": {
        "id": "230a33de",
        "outputId": "b6d59c0a-5663-475c-c5a1-da384702a581"
      },
      "outputs": [
        {
          "data": {
            "text/plain": [
              "array([ 6, 15, 24])"
            ]
          },
          "execution_count": 60,
          "metadata": {},
          "output_type": "execute_result"
        }
      ],
      "source": [
        "#row wise addition\n",
        "\n",
        "A.sum(axis=1)"
      ]
    },
    {
      "cell_type": "code",
      "execution_count": null,
      "id": "05f1fa97",
      "metadata": {
        "id": "05f1fa97",
        "outputId": "89f7f900-564c-455b-9d35-a92f7d6f8aa8"
      },
      "outputs": [
        {
          "data": {
            "text/plain": [
              "array([4., 5., 6.])"
            ]
          },
          "execution_count": 61,
          "metadata": {},
          "output_type": "execute_result"
        }
      ],
      "source": [
        "#col wise mean\n",
        "\n",
        "A.mean(axis=0)\n",
        "\n",
        "# Mean of the first column [1, 4, 7] is (1 + 4 + 7) / 3 = 4.0.\n",
        "# Mean of the second column [2, 5, 8] is (2 + 5 + 8) / 3 = 5.0.\n",
        "# Mean of the third column [3, 6, 9] is (3 + 6 + 9) / 3 = 6.0."
      ]
    },
    {
      "cell_type": "code",
      "execution_count": null,
      "id": "1e718289",
      "metadata": {
        "id": "1e718289",
        "outputId": "5bdbedbd-7fdb-44ab-a828-323ac6b6071f"
      },
      "outputs": [
        {
          "data": {
            "text/plain": [
              "array([2., 5., 8.])"
            ]
          },
          "execution_count": 62,
          "metadata": {},
          "output_type": "execute_result"
        }
      ],
      "source": [
        "#row wise mean\n",
        "\n",
        "A.mean(axis=1)\n",
        "\n",
        "# Mean of the first row [1, 2, 3] is (1 + 2 + 3) / 3 = 2.0.\n",
        "# Mean of the second row [4, 5, 6] is (4 + 5 + 6) / 3 = 5.0.\n",
        "# Mean of the third row [7, 8, 9] is (7 + 8 + 9) / 3 = 8.0."
      ]
    },
    {
      "cell_type": "code",
      "execution_count": null,
      "id": "8c6287de",
      "metadata": {
        "id": "8c6287de",
        "outputId": "d95f5022-be70-4806-917e-714159c3872e"
      },
      "outputs": [
        {
          "data": {
            "text/plain": [
              "array([0, 1, 2, 3])"
            ]
          },
          "execution_count": 68,
          "metadata": {},
          "output_type": "execute_result"
        }
      ],
      "source": [
        "# Broadcasting and Vectorized operations\n",
        "\n",
        "# create a NumPy array with sequential integer values ranging from 0 to 3.\n",
        "a = np.arange(4)\n",
        "\n",
        "a\n"
      ]
    },
    {
      "cell_type": "code",
      "execution_count": null,
      "id": "38025954",
      "metadata": {
        "id": "38025954",
        "outputId": "cf27bc1a-c571-4f90-e4b3-08da382b0cae"
      },
      "outputs": [
        {
          "data": {
            "text/plain": [
              "array([10, 11, 12, 13])"
            ]
          },
          "execution_count": 69,
          "metadata": {},
          "output_type": "execute_result"
        }
      ],
      "source": [
        "#this will add up 10 to all elements of the array\n",
        "a + 10"
      ]
    },
    {
      "cell_type": "code",
      "execution_count": null,
      "id": "aa76851f",
      "metadata": {
        "id": "aa76851f",
        "outputId": "fc175b13-869c-486b-e0ee-7e1648917a2e"
      },
      "outputs": [
        {
          "data": {
            "text/plain": [
              "array([ 0, 10, 20, 30])"
            ]
          },
          "execution_count": 70,
          "metadata": {},
          "output_type": "execute_result"
        }
      ],
      "source": [
        "a * 10\n"
      ]
    },
    {
      "cell_type": "code",
      "execution_count": null,
      "id": "ab39d874",
      "metadata": {
        "id": "ab39d874",
        "outputId": "e95424fe-6bd4-42eb-ade8-ef3d5a2eabc4"
      },
      "outputs": [
        {
          "data": {
            "text/plain": [
              "array([0, 1, 2, 3])"
            ]
          },
          "execution_count": 71,
          "metadata": {},
          "output_type": "execute_result"
        }
      ],
      "source": [
        "# array a remains unchanched as the changes are not assigned to it\n",
        "a"
      ]
    },
    {
      "cell_type": "code",
      "execution_count": null,
      "id": "200fd846",
      "metadata": {
        "id": "200fd846"
      },
      "outputs": [],
      "source": [
        "#equal to a = a + 100\n",
        "a += 100"
      ]
    },
    {
      "cell_type": "code",
      "execution_count": null,
      "id": "66423e2c",
      "metadata": {
        "id": "66423e2c",
        "outputId": "54901e11-e71e-4678-b3b6-6552b2d39d1c"
      },
      "outputs": [
        {
          "data": {
            "text/plain": [
              "array([100, 101, 102, 103])"
            ]
          },
          "execution_count": 73,
          "metadata": {},
          "output_type": "execute_result"
        }
      ],
      "source": [
        "#array is now changed\n",
        "a"
      ]
    },
    {
      "cell_type": "code",
      "execution_count": null,
      "id": "d74fecc9",
      "metadata": {
        "id": "d74fecc9"
      },
      "outputs": [],
      "source": [
        "b = np.array([10, 10, 10, 10])"
      ]
    },
    {
      "cell_type": "code",
      "execution_count": null,
      "id": "bea23bb4",
      "metadata": {
        "id": "bea23bb4",
        "outputId": "57c07229-5a8a-469e-ee56-112ba03f61a0"
      },
      "outputs": [
        {
          "data": {
            "text/plain": [
              "array([110, 111, 112, 113])"
            ]
          },
          "execution_count": 75,
          "metadata": {},
          "output_type": "execute_result"
        }
      ],
      "source": [
        "a + b"
      ]
    },
    {
      "cell_type": "code",
      "execution_count": null,
      "id": "01821566",
      "metadata": {
        "id": "01821566",
        "outputId": "9e3dfbfa-93b1-444a-e113-d399e8f46eed"
      },
      "outputs": [
        {
          "data": {
            "text/plain": [
              "array([1000, 1010, 1020, 1030])"
            ]
          },
          "execution_count": 76,
          "metadata": {},
          "output_type": "execute_result"
        }
      ],
      "source": [
        "a * b"
      ]
    },
    {
      "cell_type": "markdown",
      "id": "6bf76c5d",
      "metadata": {
        "id": "6bf76c5d"
      },
      "source": [
        "##### Numpy functions\n",
        "\n",
        "1. random"
      ]
    },
    {
      "cell_type": "code",
      "execution_count": null,
      "id": "2ddc5870",
      "metadata": {
        "id": "2ddc5870",
        "outputId": "d1ce82a6-92a9-4c5e-cd74-80ee37472a49"
      },
      "outputs": [
        {
          "data": {
            "text/plain": [
              "array([0.5832415 , 0.74699502])"
            ]
          },
          "execution_count": 111,
          "metadata": {},
          "output_type": "execute_result"
        }
      ],
      "source": [
        "A = np.random.random(size=2)\n",
        "\n",
        "# Generates random numbers from a uniform distribution\n",
        "# between 0 (inclusive) and 1 (exclusive).\n",
        "# The argument size specifies the shape of the output array.\n",
        "# size=2 means it will generate an array with two random values.\n",
        "A"
      ]
    },
    {
      "cell_type": "code",
      "execution_count": null,
      "id": "8b4fb096",
      "metadata": {
        "id": "8b4fb096",
        "outputId": "03f99335-fe62-4974-aea3-5a4549a26ddc"
      },
      "outputs": [
        {
          "data": {
            "text/plain": [
              "array([1.70790842, 2.49460504])"
            ]
          },
          "execution_count": 112,
          "metadata": {},
          "output_type": "execute_result"
        }
      ],
      "source": [
        "B = np.random.normal(size=2)\n",
        "# Generates random numbers from a normal (Gaussian) distribution\n",
        "# with a mean of 0 and a standard deviation of 1 by default.\n",
        "# The argument size specifies the shape of the output array.\n",
        "# size=2 means it will generate an array with two random values.\n",
        "B"
      ]
    },
    {
      "cell_type": "code",
      "execution_count": null,
      "id": "8a6e2be0",
      "metadata": {
        "id": "8a6e2be0",
        "outputId": "4097a889-3991-449e-da88-6802ef71feaf"
      },
      "outputs": [
        {
          "data": {
            "text/plain": [
              "array([[0.38200965, 0.41677427, 0.94861073, 0.03478475],\n",
              "       [0.96185418, 0.05831187, 0.70511718, 0.90322871]])"
            ]
          },
          "execution_count": 113,
          "metadata": {},
          "output_type": "execute_result"
        }
      ],
      "source": [
        "C = np.random.rand(2, 4)\n",
        "# Generates random numbers from a uniform distribution between 0 (inclusive) and 1 (exclusive).\n",
        "# The rand function is typically used to generate random values\n",
        "# that follow a uniform distribution.\n",
        "# The argument 2, 4 specifies the shape of the output array.\n",
        "# 2 rows and 4 columns filled with random values between 0 and 1.\n",
        "C"
      ]
    },
    {
      "cell_type": "code",
      "execution_count": null,
      "id": "14a3066f",
      "metadata": {
        "id": "14a3066f"
      },
      "outputs": [],
      "source": [
        "# create an array of 3 rows and 3 columns with random values from 0 to 100\n",
        "\n",
        "A = np.random.randint(100, size=(3, 3))"
      ]
    },
    {
      "cell_type": "code",
      "execution_count": null,
      "id": "f57b4f8e",
      "metadata": {
        "id": "f57b4f8e",
        "outputId": "f1d685fc-f105-4ee1-c2ef-d4831db87928"
      },
      "outputs": [
        {
          "data": {
            "text/plain": [
              "array([[73, 21,  5],\n",
              "       [81, 11, 75],\n",
              "       [70, 85,  8]])"
            ]
          },
          "execution_count": 115,
          "metadata": {},
          "output_type": "execute_result"
        }
      ],
      "source": [
        "A"
      ]
    },
    {
      "cell_type": "markdown",
      "id": "892431f9",
      "metadata": {
        "id": "892431f9"
      },
      "source": [
        "###### 2. arange"
      ]
    },
    {
      "cell_type": "code",
      "execution_count": null,
      "id": "1ed8d959",
      "metadata": {
        "id": "1ed8d959",
        "outputId": "8eecb28e-6f52-459d-beba-f8ce2454aeb4"
      },
      "outputs": [
        {
          "data": {
            "text/plain": [
              "array([0, 1, 2, 3, 4, 5, 6, 7, 8, 9])"
            ]
          },
          "execution_count": 116,
          "metadata": {},
          "output_type": "execute_result"
        }
      ],
      "source": [
        "A = np.arange(10)\n",
        "# Generates a 1-dimensional array with values from 0 up to,\n",
        "# but not including, 10.\n",
        "A"
      ]
    },
    {
      "cell_type": "code",
      "execution_count": null,
      "id": "c4faafab",
      "metadata": {
        "id": "c4faafab",
        "outputId": "51b9ea8a-633c-4739-c814-f29da9d504bb"
      },
      "outputs": [
        {
          "data": {
            "text/plain": [
              "array([5, 6, 7, 8, 9])"
            ]
          },
          "execution_count": 117,
          "metadata": {},
          "output_type": "execute_result"
        }
      ],
      "source": [
        "B = np.arange(5, 10)\n",
        "# Generate a 1-dimensional array with values starting from 5\n",
        "# and going up to, but not including, 10.\n",
        "B"
      ]
    },
    {
      "cell_type": "code",
      "execution_count": null,
      "id": "a848cfab",
      "metadata": {
        "id": "a848cfab",
        "outputId": "6609d4d5-15bd-4177-d065-d52db1fdfb12"
      },
      "outputs": [
        {
          "data": {
            "text/plain": [
              "array([0. , 0.1, 0.2, 0.3, 0.4, 0.5, 0.6, 0.7, 0.8, 0.9])"
            ]
          },
          "execution_count": 118,
          "metadata": {},
          "output_type": "execute_result"
        }
      ],
      "source": [
        "C = np.arange(0, 1, .1)\n",
        "# Generate a sequence of numbers starting from 0 and incrementing by 0.1\n",
        "# until it reaches a value just less than 1\n",
        "C"
      ]
    },
    {
      "cell_type": "markdown",
      "id": "2d6601f0",
      "metadata": {
        "id": "2d6601f0"
      },
      "source": [
        "##### 3. reshape"
      ]
    },
    {
      "cell_type": "code",
      "execution_count": null,
      "id": "65c032d2",
      "metadata": {
        "id": "65c032d2",
        "outputId": "fc6398cb-fce7-49e7-fdf2-d129427dfb8f"
      },
      "outputs": [
        {
          "data": {
            "text/plain": [
              "array([[0, 1, 2, 3, 4],\n",
              "       [5, 6, 7, 8, 9]])"
            ]
          },
          "execution_count": 119,
          "metadata": {},
          "output_type": "execute_result"
        }
      ],
      "source": [
        "A = np.arange(10).reshape(2, 5)\n",
        "# creates a 1-dimensional NumPy array with values from 0 to 9 (inclusive),\n",
        "# then arranges the values into a 2-dimensional array with 2 rows and 5 columns\n",
        "A"
      ]
    },
    {
      "cell_type": "code",
      "execution_count": null,
      "id": "86c16c64",
      "metadata": {
        "id": "86c16c64",
        "outputId": "1648782c-d3fd-4ec8-c978-03551dca84b1"
      },
      "outputs": [
        {
          "data": {
            "text/plain": [
              "array([[0, 1],\n",
              "       [2, 3],\n",
              "       [4, 5],\n",
              "       [6, 7],\n",
              "       [8, 9]])"
            ]
          },
          "execution_count": 120,
          "metadata": {},
          "output_type": "execute_result"
        }
      ],
      "source": [
        "B = np.arange(10).reshape(5, 2)\n",
        "# creates a 1-dimensional array with values from 0 to 9 (inclusive),\n",
        "# then arranges the values into a 2-dimensional array with 5 rows and 2 columns\n",
        "B"
      ]
    },
    {
      "cell_type": "markdown",
      "id": "8d33e24a",
      "metadata": {
        "id": "8d33e24a"
      },
      "source": [
        "##### 4. linspace"
      ]
    },
    {
      "cell_type": "code",
      "execution_count": null,
      "id": "008d3cc3",
      "metadata": {
        "id": "008d3cc3",
        "outputId": "8be54131-aa15-48a9-8156-b0756aa8cb9f"
      },
      "outputs": [
        {
          "data": {
            "text/plain": [
              "array([0.  , 0.25, 0.5 , 0.75, 1.  ])"
            ]
          },
          "execution_count": 91,
          "metadata": {},
          "output_type": "execute_result"
        }
      ],
      "source": [
        "A = np.linspace(0, 1, 5)\n",
        "# generates 5 evenly spaced values between 0 (inclusive) and 1 (inclusive)\n",
        "A"
      ]
    },
    {
      "cell_type": "code",
      "execution_count": null,
      "id": "610a02cc",
      "metadata": {
        "id": "610a02cc",
        "outputId": "24c0ede0-ba67-4657-8d1a-b0e1a872353b"
      },
      "outputs": [
        {
          "data": {
            "text/plain": [
              "array([0.        , 0.05263158, 0.10526316, 0.15789474, 0.21052632,\n",
              "       0.26315789, 0.31578947, 0.36842105, 0.42105263, 0.47368421,\n",
              "       0.52631579, 0.57894737, 0.63157895, 0.68421053, 0.73684211,\n",
              "       0.78947368, 0.84210526, 0.89473684, 0.94736842, 1.        ])"
            ]
          },
          "execution_count": 122,
          "metadata": {},
          "output_type": "execute_result"
        }
      ],
      "source": [
        "B = np.linspace(0, 1, 20)\n",
        "# generates 20 evenly spaced values between 0 (inclusive) and 1 (inclusive).\n",
        "B"
      ]
    },
    {
      "cell_type": "code",
      "execution_count": null,
      "id": "87a0f9be",
      "metadata": {
        "id": "87a0f9be",
        "outputId": "a2c48194-9837-425d-fa1c-51f5fd990a29"
      },
      "outputs": [
        {
          "data": {
            "text/plain": [
              "array([0.  , 0.05, 0.1 , 0.15, 0.2 , 0.25, 0.3 , 0.35, 0.4 , 0.45, 0.5 ,\n",
              "       0.55, 0.6 , 0.65, 0.7 , 0.75, 0.8 , 0.85, 0.9 , 0.95])"
            ]
          },
          "execution_count": 123,
          "metadata": {},
          "output_type": "execute_result"
        }
      ],
      "source": [
        "C = np.linspace(0, 1, 20, False)\n",
        "# generates 20 evenly spaced values between 0 (inclusive) and 1,\n",
        "# but it doesn't include the endpoint (1.0)\n",
        "C"
      ]
    },
    {
      "cell_type": "markdown",
      "id": "2c6f93ed",
      "metadata": {
        "id": "2c6f93ed"
      },
      "source": [
        "##### 5. zeros, ones, empty"
      ]
    },
    {
      "cell_type": "code",
      "execution_count": null,
      "id": "cc5fad51",
      "metadata": {
        "id": "cc5fad51",
        "outputId": "d0a39cd0-e79e-46cc-83ee-2338a9dbae2f"
      },
      "outputs": [
        {
          "data": {
            "text/plain": [
              "array([0., 0., 0., 0., 0.])"
            ]
          },
          "execution_count": 97,
          "metadata": {},
          "output_type": "execute_result"
        }
      ],
      "source": [
        "A = np.zeros(5)\n",
        "# generates 1D array with five zeros\n",
        "A"
      ]
    },
    {
      "cell_type": "code",
      "execution_count": null,
      "id": "8cdcf85c",
      "metadata": {
        "id": "8cdcf85c",
        "outputId": "543af625-b60a-4bea-8c79-c8c34d6938f7"
      },
      "outputs": [
        {
          "data": {
            "text/plain": [
              "array([[0., 0., 0.],\n",
              "       [0., 0., 0.],\n",
              "       [0., 0., 0.]])"
            ]
          },
          "execution_count": 98,
          "metadata": {},
          "output_type": "execute_result"
        }
      ],
      "source": [
        "B = np.zeros((3, 3))\n",
        "# generates 2D array with 3 rows and 3 columns filled with 0s\n",
        "B"
      ]
    },
    {
      "cell_type": "code",
      "execution_count": null,
      "id": "66f4563d",
      "metadata": {
        "id": "66f4563d",
        "outputId": "ba5384ca-5216-49a8-cd8f-785a25504ac5"
      },
      "outputs": [
        {
          "data": {
            "text/plain": [
              "array([1., 1., 1., 1., 1.])"
            ]
          },
          "execution_count": 99,
          "metadata": {},
          "output_type": "execute_result"
        }
      ],
      "source": [
        "C = np.ones(5)\n",
        "# generates 1D array with five ones\n",
        "C"
      ]
    },
    {
      "cell_type": "code",
      "execution_count": null,
      "id": "b5218ca2",
      "metadata": {
        "id": "b5218ca2",
        "outputId": "62de29b2-7d96-4de5-86f7-0376ce03d01f"
      },
      "outputs": [
        {
          "data": {
            "text/plain": [
              "array([[1., 1., 1.],\n",
              "       [1., 1., 1.],\n",
              "       [1., 1., 1.]])"
            ]
          },
          "execution_count": 100,
          "metadata": {},
          "output_type": "execute_result"
        }
      ],
      "source": [
        "D = np.ones((3, 3))\n",
        "# generates 2D array with 3 rows and 3 columns filled with 1s\n",
        "D"
      ]
    },
    {
      "cell_type": "code",
      "execution_count": null,
      "id": "d8affb13",
      "metadata": {
        "id": "d8affb13",
        "outputId": "a9403524-8dde-4611-eb60-877f43a2ba23"
      },
      "outputs": [
        {
          "data": {
            "text/plain": [
              "array([2.12199579e-314, 4.67296746e-307, 3.71537366e-321, 3.79442416e-321,\n",
              "       2.33422678e-312])"
            ]
          },
          "execution_count": 126,
          "metadata": {},
          "output_type": "execute_result"
        }
      ],
      "source": [
        "E = np.empty(5)\n",
        "# allocates memory for a 1D array with five elements\n",
        "# but does not set their values to any specific initial values.\n",
        "#The values in E will also be uninitialized and may appear as random numbers.\n",
        "E"
      ]
    },
    {
      "cell_type": "code",
      "execution_count": null,
      "id": "ad215437",
      "metadata": {
        "id": "ad215437",
        "outputId": "03e80745-e911-484c-8c2f-72c0490e33c7"
      },
      "outputs": [
        {
          "data": {
            "text/plain": [
              "array([[1., 1.],\n",
              "       [1., 1.]])"
            ]
          },
          "execution_count": 127,
          "metadata": {},
          "output_type": "execute_result"
        }
      ],
      "source": [
        "F = np.empty((2, 2))\n",
        "# 2D array with 2 rows and 2 columns without specific initial values.\n",
        "# The values in F will also be uninitialized and may appear as random numbers.\n",
        "F"
      ]
    },
    {
      "cell_type": "markdown",
      "id": "dd347343",
      "metadata": {
        "id": "dd347343"
      },
      "source": [
        "##### 6. identity and eye"
      ]
    },
    {
      "cell_type": "code",
      "execution_count": null,
      "id": "11e8a8f5",
      "metadata": {
        "id": "11e8a8f5",
        "outputId": "4161f2b5-b791-426f-e149-bd8174221594"
      },
      "outputs": [
        {
          "data": {
            "text/plain": [
              "array([[1., 0., 0.],\n",
              "       [0., 1., 0.],\n",
              "       [0., 0., 1.]])"
            ]
          },
          "execution_count": 104,
          "metadata": {},
          "output_type": "execute_result"
        }
      ],
      "source": [
        "A = np.identity(3)\n",
        "# An identity matrix is a square matrix where all the diagonal elements are 1,\n",
        "# and all other elements are 0\n",
        "A"
      ]
    },
    {
      "cell_type": "code",
      "execution_count": null,
      "id": "2a9856ed",
      "metadata": {
        "id": "2a9856ed",
        "outputId": "5ef95e62-d18a-4b6a-b59c-d972546c72c4"
      },
      "outputs": [
        {
          "data": {
            "text/plain": [
              "array([[1., 0., 0.],\n",
              "       [0., 1., 0.],\n",
              "       [0., 0., 1.]])"
            ]
          },
          "execution_count": 128,
          "metadata": {},
          "output_type": "execute_result"
        }
      ],
      "source": [
        "B = np.eye(3, 3)\n",
        "# creates a 3x3 identity matrix.\n",
        "#The np.eye() function allows specifying the number of rows and columns\n",
        "B"
      ]
    },
    {
      "cell_type": "code",
      "execution_count": null,
      "id": "2bf30ba1",
      "metadata": {
        "id": "2bf30ba1",
        "outputId": "7ef5a66e-6739-40b3-92fb-8070830dc58b"
      },
      "outputs": [
        {
          "data": {
            "text/plain": [
              "array([[1., 0., 0., 0.],\n",
              "       [0., 1., 0., 0.],\n",
              "       [0., 0., 1., 0.],\n",
              "       [0., 0., 0., 1.],\n",
              "       [0., 0., 0., 0.],\n",
              "       [0., 0., 0., 0.],\n",
              "       [0., 0., 0., 0.],\n",
              "       [0., 0., 0., 0.]])"
            ]
          },
          "execution_count": 130,
          "metadata": {},
          "output_type": "execute_result"
        }
      ],
      "source": [
        "C = np.eye(8, 4)\n",
        "# creating a non-square identity matrix,\n",
        "# 8x4 matrix where the diagonal elements are 1, and all other elements are 0.\n",
        "C"
      ]
    },
    {
      "cell_type": "code",
      "execution_count": null,
      "id": "afa33bd4",
      "metadata": {
        "id": "afa33bd4",
        "outputId": "d967710f-2d4e-4d54-9d03-aa0aeb4b2a7f"
      },
      "outputs": [
        {
          "data": {
            "text/plain": [
              "array([[0., 1., 0., 0.],\n",
              "       [0., 0., 1., 0.],\n",
              "       [0., 0., 0., 1.],\n",
              "       [0., 0., 0., 0.],\n",
              "       [0., 0., 0., 0.],\n",
              "       [0., 0., 0., 0.],\n",
              "       [0., 0., 0., 0.],\n",
              "       [0., 0., 0., 0.]])"
            ]
          },
          "execution_count": 129,
          "metadata": {},
          "output_type": "execute_result"
        }
      ],
      "source": [
        "D = np.eye(8, 4, k=1)\n",
        "# creates an 8x4 identity matrix with an offset of 1,\n",
        "# meaning that the 1's start one position to the right of the main diagonal.\n",
        "D"
      ]
    },
    {
      "cell_type": "code",
      "execution_count": null,
      "id": "5d211490",
      "metadata": {
        "id": "5d211490",
        "outputId": "997af99a-528a-4031-ec3f-e84097b7a398"
      },
      "outputs": [
        {
          "data": {
            "text/plain": [
              "array([[0., 0., 0., 0.],\n",
              "       [0., 0., 0., 0.],\n",
              "       [0., 0., 0., 0.],\n",
              "       [1., 0., 0., 0.],\n",
              "       [0., 1., 0., 0.],\n",
              "       [0., 0., 1., 0.],\n",
              "       [0., 0., 0., 1.],\n",
              "       [0., 0., 0., 0.]])"
            ]
          },
          "execution_count": 108,
          "metadata": {},
          "output_type": "execute_result"
        }
      ],
      "source": [
        "E = np.eye(8, 4, k=-3)\n",
        "# creates an 8x4 identity matrix with an offset of -3,\n",
        "# meaning that the 1's start three positions to the left of the main diagonal.\n",
        "E"
      ]
    },
    {
      "cell_type": "code",
      "execution_count": null,
      "id": "bc6cfa67",
      "metadata": {
        "id": "bc6cfa67"
      },
      "outputs": [],
      "source": []
    }
  ],
  "metadata": {
    "kernelspec": {
      "display_name": "Python 3 (ipykernel)",
      "language": "python",
      "name": "python3"
    },
    "language_info": {
      "codemirror_mode": {
        "name": "ipython",
        "version": 3
      },
      "file_extension": ".py",
      "mimetype": "text/x-python",
      "name": "python",
      "nbconvert_exporter": "python",
      "pygments_lexer": "ipython3",
      "version": "3.9.13"
    },
    "colab": {
      "provenance": []
    }
  },
  "nbformat": 4,
  "nbformat_minor": 5
}