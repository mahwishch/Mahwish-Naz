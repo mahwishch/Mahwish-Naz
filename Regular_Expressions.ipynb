{
  "cells": [
    {
      "cell_type": "markdown",
      "metadata": {
        "id": "Od0BVxJyFiMZ"
      },
      "source": [
        "<a name='0'></a>\n",
        "# Intro to Regular Expressions\n",
        "\n",
        "\n",
        "In this lab, you will learn to:\n",
        "\n",
        " * [1.Using the re Module in Python](#1)\n",
        " * [2. Searching and Matching](#2)\n",
        " * [3. Capturing Groups](#3)\n",
        " * [4. Replacing Patterns](#4)\n",
        " * [5. Compilation Flags](#5)\n",
        "\n",
        "\n",
        "\n"
      ]
    },
    {
      "cell_type": "markdown",
      "metadata": {
        "id": "2MG9Fii1d8Wy"
      },
      "source": [
        "If you are using Google Colab, we do not need to install NumPy. We will only have to import it just like this:\n",
        "\n",
        "`import numpy as np`\n",
        "\n",
        "If you are using local Jupyter notebooks, make sure you have it installed already."
      ]
    },
    {
      "cell_type": "code",
      "execution_count": null,
      "metadata": {
        "id": "j73Pla4Gf_H4"
      },
      "outputs": [],
      "source": [
        "import re"
      ]
    },
    {
      "cell_type": "code",
      "execution_count": null,
      "metadata": {
        "id": "rFx8BN4bfTWL",
        "outputId": "2cfe2251-3cdf-4987-bee3-d24293430112",
        "colab": {
          "base_uri": "https://localhost:8080/"
        }
      },
      "outputs": [
        {
          "output_type": "stream",
          "name": "stdout",
          "text": [
            "Pattern found: receipt\n"
          ]
        }
      ],
      "source": [
        "pattern = r\"receipt\"\n",
        "text = \"this is the receipt no:9080\"\n",
        "\n",
        "match = re.search(pattern, text)\n",
        "\n",
        "if match:\n",
        "    print(\"Pattern found:\", match.group())\n",
        "else:\n",
        "    print(\"Pattern not found.\")"
      ]
    },
    {
      "cell_type": "markdown",
      "metadata": {
        "id": "VNvT3p76f_H7"
      },
      "source": [
        "<a name='2'></a>\n",
        "\n",
        "### Capturing Groups"
      ]
    },
    {
      "cell_type": "code",
      "execution_count": null,
      "metadata": {
        "id": "zNDruz_Bf_H7",
        "outputId": "abd7e231-f6de-4196-8ed2-e9a477d64d6a",
        "colab": {
          "base_uri": "https://localhost:8080/"
        }
      },
      "outputs": [
        {
          "output_type": "stream",
          "name": "stdout",
          "text": [
            "Full match: 123-45\n",
            "Group 1: 123\n",
            "Group 2: 45\n"
          ]
        }
      ],
      "source": [
        "text = \"123-45\"\n",
        "pattern = r\"(\\d{3})-(\\d{2})\"\n",
        "match = re.search(pattern, text)\n",
        "if match:\n",
        "    print(\"Full match:\", match.group())\n",
        "    print(\"Group 1:\", match.group(1))\n",
        "    print(\"Group 2:\", match.group(2))"
      ]
    },
    {
      "cell_type": "markdown",
      "metadata": {
        "id": "oHKb-EdHf_H8"
      },
      "source": [
        "### Replacing Patterns"
      ]
    },
    {
      "cell_type": "code",
      "execution_count": null,
      "metadata": {
        "id": "WcBM3OWff_H9",
        "outputId": "f0d0ded4-41a5-4225-dffc-35e576bccb1c",
        "colab": {
          "base_uri": "https://localhost:8080/"
        }
      },
      "outputs": [
        {
          "output_type": "stream",
          "name": "stdout",
          "text": [
            "I hate apples and apple pie.\n",
            "I love oranges and orange pie.\n"
          ]
        }
      ],
      "source": [
        "pattern = r\"love\"\n",
        "text = \"I love apples and apple pie.\"\n",
        "new_text = re.sub(pattern, \"hate\", text)\n",
        "print(new_text)\n",
        "\n",
        "pattern = r\"apple\"\n",
        "text = \"I love apples and apple pie.\"\n",
        "new_text = re.sub(pattern, \"orange\", text)\n",
        "print(new_text)"
      ]
    },
    {
      "cell_type": "markdown",
      "metadata": {
        "id": "w1SYoNS2f_H9"
      },
      "source": [
        "### Compilation Flags"
      ]
    },
    {
      "cell_type": "code",
      "execution_count": null,
      "metadata": {
        "id": "-tY_Aiskf_H-",
        "colab": {
          "base_uri": "https://localhost:8080/"
        },
        "outputId": "6a7e7422-2cd3-4dde-94e2-883e5b63c714"
      },
      "outputs": [
        {
          "output_type": "stream",
          "name": "stdout",
          "text": [
            "Pattern found: Hello\n"
          ]
        }
      ],
      "source": [
        "pattern = r\"hello\"\n",
        "text = \"Hello World\"\n",
        "match = re.search(pattern, text, re.IGNORECASE)\n",
        "if match:\n",
        "    print(\"Pattern found:\", match.group())\n"
      ]
    },
    {
      "cell_type": "code",
      "execution_count": null,
      "metadata": {
        "id": "SLdP8Miff_IA"
      },
      "outputs": [],
      "source": []
    },
    {
      "cell_type": "markdown",
      "metadata": {
        "id": "693gbeHwf_IA"
      },
      "source": [
        "#### Exercise 1: Validate an Email Address"
      ]
    },
    {
      "cell_type": "code",
      "execution_count": null,
      "metadata": {
        "id": "iTIqexg2f_IA",
        "outputId": "5d0d4253-7389-437a-81ee-80e0fe8b7c17",
        "colab": {
          "base_uri": "https://localhost:8080/"
        }
      },
      "outputs": [
        {
          "output_type": "stream",
          "name": "stdout",
          "text": [
            "True\n",
            "False\n"
          ]
        }
      ],
      "source": [
        "import re\n",
        "\n",
        "def validate_email(email):\n",
        "    # Regular expression pattern to validate email addresses\n",
        "    pattern = r'^[\\w\\.-]+@[\\w\\.-]+\\.\\w+$'\n",
        "\n",
        "    if re.match(pattern, email):\n",
        "        return True  # Valid email address\n",
        "    else:\n",
        "        return False  # Invalid email address\n",
        "\n",
        "# Test cases\n",
        "print(validate_email(\"user@example.com\"))  # True\n",
        "print(validate_email(\"invalid-email\"))     # False"
      ]
    },
    {
      "cell_type": "markdown",
      "metadata": {
        "id": "lZa9-V30f_IB"
      },
      "source": [
        "^: Matches the start of the string.\n",
        "\n",
        "[\\w\\.-]+: Matches one or more word characters (alphanumeric and underscore), dots, and hyphens. This represents the username part of the email.\n",
        "\n",
        "@: Matches the \"@\" symbol.\n",
        "\n",
        "[\\w\\.-]+: Matches one or more word characters, dots, and hyphens. This represents the domain name.\n",
        "\n",
        "\\.: Matches a dot (used to separate the domain name and top-level domain).\n",
        "\n",
        "\\w+: Matches one or more word characters. This represents the top-level domain.\n",
        "\n",
        "$: Matches the end of the string."
      ]
    },
    {
      "cell_type": "markdown",
      "metadata": {
        "id": "umenKyHFf_IB"
      },
      "source": [
        "#### Exercise 2: Extract All URLs from a Webpage Source Code"
      ]
    },
    {
      "cell_type": "code",
      "execution_count": null,
      "metadata": {
        "id": "cvov2uz9f_IB",
        "outputId": "db3d17a5-5ce9-47c4-8148-40dc8a01a603",
        "colab": {
          "base_uri": "https://localhost:8080/"
        }
      },
      "outputs": [
        {
          "output_type": "stream",
          "name": "stdout",
          "text": [
            "https://www.example.com\n",
            "http://www.test.com\n"
          ]
        }
      ],
      "source": [
        "import re\n",
        "\n",
        "def extract_urls(source_code):\n",
        "    # Regular expression pattern to match URLs\n",
        "    pattern = r'http[s]?://(?:[a-zA-Z]|[0-9]|[$-_@.&+]|[!*\\\\(\\\\),]|(?:%[0-9a-fA-F][0-9a-fA-F]))+'\n",
        "\n",
        "    # Find all URLs in the source code using the pattern\n",
        "    urls = re.findall(pattern, source_code)\n",
        "    return urls\n",
        "\n",
        "# Example webpage source code\n",
        "webpage_source = \"\"\"\n",
        "<html>\n",
        "  <a href=\"https://www.example.com\">Visit Example</a>\n",
        "  <a href=\"http://www.test.com\">Test Website</a>\n",
        "</html>\n",
        "\"\"\"\n",
        "\n",
        "# Extract and print URLs\n",
        "urls = extract_urls(webpage_source)\n",
        "for url in urls:\n",
        "    print(url)\n"
      ]
    },
    {
      "cell_type": "markdown",
      "source": [
        "http[s]?://: Matches \"http\" or \"https\" followed by \"://\".\n",
        "\n",
        "(?: ... ): A non-capturing group that contains several character classes. This is used to match valid URL characters.\n",
        "\n",
        "[a-zA-Z]: Matches any alphabetical character.\n",
        "\n",
        "[0-9]: Matches any digit.\n",
        "\n",
        "[$-_@.&+]: Matches specific characters used in URLs.\n",
        "\n",
        "[*\\(\\),]: Matches characters like asterisks, parentheses, and commas.\n",
        "\n",
        "(?:%[0-9a-fA-F][0-9a-fA-F]): Matches URL-encoded characters (e.g., %20 for space).\n",
        "\n",
        "+: Matches one or more occurrences of the preceding group."
      ],
      "metadata": {
        "id": "crofeTdJJC3Y"
      }
    },
    {
      "cell_type": "markdown",
      "metadata": {
        "id": "D2K9Y128f_IC"
      },
      "source": [
        "### Exercise: Replace Sensitive Information (e.g., Email Addresses) in a Text python\n"
      ]
    },
    {
      "cell_type": "code",
      "execution_count": null,
      "metadata": {
        "id": "GW6RJYAtf_IC",
        "outputId": "d7e4109b-e62b-4b18-9738-bc2b036082e5",
        "colab": {
          "base_uri": "https://localhost:8080/"
        }
      },
      "outputs": [
        {
          "output_type": "stream",
          "name": "stdout",
          "text": [
            "Original text: Contact us at john@example.com or jane@example.com for assistance.\n",
            "Masked text: Contact us at [email] or [email] for assistance.\n"
          ]
        }
      ],
      "source": [
        "import re\n",
        "\n",
        "def replace_sensitive_info(text):\n",
        "    # Regular expression pattern to match email addresses\n",
        "    email_pattern = r'\\b[\\w\\.-]+@[\\w\\.-]+\\.\\w+\\b'\n",
        "\n",
        "    # Replace email addresses with placeholders\n",
        "    masked_text = re.sub(email_pattern, \"[email]\", text)\n",
        "    return masked_text\n",
        "\n",
        "# Test case\n",
        "original_text = \"Contact us at john@example.com or jane@example.com for assistance.\"\n",
        "masked_text = replace_sensitive_info(original_text)\n",
        "print(\"Original text:\", original_text)\n",
        "print(\"Masked text:\", masked_text)"
      ]
    },
    {
      "cell_type": "markdown",
      "metadata": {
        "id": "ihrN8hSXf_IC"
      },
      "source": [
        "\\b: Matches a word boundary, ensuring that only whole email addresses are matched.\n",
        "    \n",
        "[\\w\\.-]+@[\\w\\.-]+\\.\\w+: Matches a typical email address pattern.\n",
        "    \n",
        "re.sub(email_pattern, \"[email]\", text): Replaces matched email addresses with the placeholder \"[email]\"."
      ]
    },
    {
      "cell_type": "markdown",
      "metadata": {
        "id": "H1dOvL-8f_ID"
      },
      "source": [
        "### Exercise: Applying this on a column"
      ]
    },
    {
      "cell_type": "code",
      "execution_count": null,
      "metadata": {
        "id": "oO2GuijLf_ID",
        "outputId": "a6068f5f-414b-4573-92e2-bc5a171c233a",
        "colab": {
          "base_uri": "https://localhost:8080/"
        }
      },
      "outputs": [
        {
          "output_type": "stream",
          "name": "stdout",
          "text": [
            "                                      text_column  \\\n",
            "0  Contact us at john@example.com for assistance.   \n",
            "1           Send an email to support@example.com.   \n",
            "2           Please reach out to info@company.com.   \n",
            "\n",
            "                      text_column_masked  \n",
            "0  Contact us at [email] for assistance.  \n",
            "1              Send an email to [email].  \n",
            "2           Please reach out to [email].  \n"
          ]
        }
      ],
      "source": [
        "import pandas as pd\n",
        "import re\n",
        "\n",
        "# Sample DataFrame\n",
        "data = {\n",
        "    'text_column': [\n",
        "        \"Contact us at john@example.com for assistance.\",\n",
        "        \"Send an email to support@example.com.\",\n",
        "        \"Please reach out to info@company.com.\"\n",
        "    ]\n",
        "}\n",
        "df = pd.DataFrame(data)\n",
        "\n",
        "def replace_sensitive_info(text):\n",
        "    # Regular expression pattern to match email addresses\n",
        "    email_pattern = r'\\b[\\w\\.-]+@[\\w\\.-]+\\.\\w+\\b'\n",
        "\n",
        "    # Replace email addresses with placeholders\n",
        "    masked_text = re.sub(email_pattern, \"[email]\", text)\n",
        "    return masked_text\n",
        "\n",
        "# Apply the replacement function to the 'text_column' column\n",
        "df['text_column_masked'] = df['text_column'].apply(replace_sensitive_info)\n",
        "\n",
        "# Display the DataFrame\n",
        "print(df)"
      ]
    },
    {
      "cell_type": "markdown",
      "metadata": {
        "id": "d99A_rdSf_ID"
      },
      "source": [
        "\n",
        "\n",
        "In this example, we create a sample DataFrame df with a column named 'text_column' containing text data.\n",
        "\n",
        "We define the replace_sensitive_info function, which uses regular expressions to replace email addresses with placeholders.\n",
        "\n",
        "The apply function is then used to apply the replace_sensitive_info function to each element in the 'text_column' column. The results are stored in a new column named 'text_column_masked'.\n",
        "\n",
        "After running the code, the DataFrame df will contain the original text in the 'text_column' column and the text with email addresses replaced by placeholders in the 'text_column_masked' column.\n",
        "\n",
        "Remember to replace 'text_column' and 'text_column_masked' with the actual column names you are working with in your DataFrame."
      ]
    },
    {
      "cell_type": "markdown",
      "metadata": {
        "id": "ZmYPzsyYf_ID"
      },
      "source": [
        "### [BACK TO TOP](#0)"
      ]
    },
    {
      "cell_type": "code",
      "execution_count": null,
      "metadata": {
        "id": "Lxi8rddFf_IE"
      },
      "outputs": [],
      "source": []
    }
  ],
  "metadata": {
    "colab": {
      "provenance": []
    },
    "kernelspec": {
      "display_name": "Python 3 (ipykernel)",
      "language": "python",
      "name": "python3"
    },
    "language_info": {
      "codemirror_mode": {
        "name": "ipython",
        "version": 3
      },
      "file_extension": ".py",
      "mimetype": "text/x-python",
      "name": "python",
      "nbconvert_exporter": "python",
      "pygments_lexer": "ipython3",
      "version": "3.9.13"
    }
  },
  "nbformat": 4,
  "nbformat_minor": 0
}