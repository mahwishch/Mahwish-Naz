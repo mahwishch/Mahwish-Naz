{
 "cells": [
  {
   "cell_type": "code",
   "execution_count": 8,
   "id": "75f592b3",
   "metadata": {},
   "outputs": [
    {
     "name": "stdout",
     "output_type": "stream",
     "text": [
      "Name: mahwish\n",
      "Age: 29\n",
      "Student: False\n"
     ]
    }
   ],
   "source": [
    "#Task 1: Variables and Data Types\n",
    "#a) Create three variables: one for storing your age (integer), one for your name (string), and one to check if you are a student (Boolean). Print the variables.\n",
    "age = 29  \n",
    "name = \"mahwish\"\n",
    "student = False\n",
    "\n",
    "print(\"Name:\", name)\n",
    "print(\"Age:\", age)\n",
    "print(\"Student:\", student)\n"
   ]
  },
  {
   "cell_type": "code",
   "execution_count": 12,
   "id": "58286e0d",
   "metadata": {},
   "outputs": [
    {
     "name": "stdout",
     "output_type": "stream",
     "text": [
      "new age: 54\n",
      "new name: mahwishsmith\n",
      "negate variable: True\n"
     ]
    }
   ],
   "source": [
    "#b) Perform the following operations and print the results:\n",
    "   #Add 25 to your age variable.   \n",
    "age=29\n",
    "age+=25\n",
    "print(\"new age:\",age)\n",
    "#Concatenate your name with the string \"Smith.\"\n",
    "name = \"mahwish\"\n",
    "name+= \"smith\"\n",
    "print(\"new name:\", name)\n",
    "#- Negate the Boolean variable (if True, make it False, and vice versa).\n",
    "student= False\n",
    "student= not student \n",
    "print(\"negate variable:\",student)\n",
    "\n",
    "\n",
    "\n",
    "   \n"
   ]
  },
  {
   "cell_type": "code",
   "execution_count": 14,
   "id": "3db26173",
   "metadata": {},
   "outputs": [
    {
     "name": "stdout",
     "output_type": "stream",
     "text": [
      "Area of a rectangle: 17.875\n"
     ]
    }
   ],
   "source": [
    "#Task 2: Expressions and Operators\n",
    "#a) A rectangle has a width of 5.5 units and a height of 3.25 units. Store width and height in variables. Create a new variable called area and write an expression to calculate the area. Print the area in the output. \n",
    "width= 5.5\n",
    "height= 3.25\n",
    "area= width * height\n",
    "print(\"Area of a rectangle:\",area)"
   ]
  },
  {
   "cell_type": "code",
   "execution_count": 15,
   "id": "99921c80",
   "metadata": {},
   "outputs": [
    {
     "name": "stdout",
     "output_type": "stream",
     "text": [
      "Temperature in Fahrenheit: 113.0\n"
     ]
    }
   ],
   "source": [
    "#b) Create a temperature variable in Celsius. Convert it to Fahrenheit using the formula: F = (C * 9/5) + 32. Store this temperature in a variable called Fahrenheit and print this variable\n",
    "C= 45 #Temperature in celsius\n",
    "Fahrenheit= (C * 9/5) + 32\n",
    "print(\"Temperature in Fahrenheit:\", Fahrenheit)\n",
    "\n"
   ]
  },
  {
   "cell_type": "code",
   "execution_count": 16,
   "id": "d6cb9998",
   "metadata": {},
   "outputs": [
    {
     "name": "stdout",
     "output_type": "stream",
     "text": [
      "Area of Circle is: 78.5\n"
     ]
    }
   ],
   "source": [
    "#c) Create a variable called radius and give it a value of 5. Calculate the area of a circle with this radius and store it in a variable called area. Print area at the end of your code. (Use the formula: area = π * radius^2, where π (pi) is approximately 3.14159). \n",
    "radius= 5\n",
    "pi= 3.14\n",
    "Area= pi * (radius**2)\n",
    "print(\"Area of Circle is:\",Area)\n",
    "\n"
   ]
  },
  {
   "cell_type": "code",
   "execution_count": 1,
   "id": "dc541998",
   "metadata": {},
   "outputs": [
    {
     "name": "stdout",
     "output_type": "stream",
     "text": [
      "Lists of Fruits: ['apple,banana,orange,grape,kiwi']\n"
     ]
    }
   ],
   "source": [
    "#Task 3: Introduction to Data Structures\n",
    "#a) Create a list called \"fruits\" containing the following fruits: \"apple,\" \"banana,\" \"orange,\" \"grape,\" and \"kiwi.\" Print the list.\n",
    "\n",
    "Fruits= [\"apple,\" \"banana,\" \"orange,\" \"grape,\" \"kiwi\"]\n",
    "print (\"Lists of Fruits:\", Fruits)\n"
   ]
  },
  {
   "cell_type": "code",
   "execution_count": 2,
   "id": "5fa501bd",
   "metadata": {},
   "outputs": [
    {
     "name": "stdout",
     "output_type": "stream",
     "text": [
      "tuple of the months: ('january', 'february', 'march')\n"
     ]
    }
   ],
   "source": [
    "#b) Create a tuple named \"months\" with the names of the first three months of the year. Print the tuple.\n",
    "months=(\"january\",\"february\",\"march\")\n",
    "print(\"tuple of the months:\",months)\n"
   ]
  },
  {
   "cell_type": "code",
   "execution_count": 9,
   "id": "13b2a3ee",
   "metadata": {},
   "outputs": [
    {
     "name": "stdout",
     "output_type": "stream",
     "text": [
      "Sum of numbers: 426\n",
      "Average of numbers: 53.25\n"
     ]
    }
   ],
   "source": [
    "#Task 4: List Manipulation\n",
    "#a) Given the list of numbers below, write a Python program to calculate the sum and average of these numbers. Print both results.\n",
    "  # numbers = [12, 34, 45, 67, 89, 100, 23, 56]\n",
    "\n",
    "numbers = [12, 34, 45, 67, 89, 100, 23, 56]\n",
    "\n",
    "total = sum(numbers)\n",
    "\n",
    "average = total / len(numbers)\n",
    "\n",
    "print(\"Sum of numbers:\", total)\n",
    "print(\"Average of numbers:\", average)\n"
   ]
  },
  {
   "cell_type": "code",
   "execution_count": 12,
   "id": "54ae2fff",
   "metadata": {},
   "outputs": [
    {
     "name": "stdout",
     "output_type": "stream",
     "text": [
      "Updated list of fruits: ['banana', 'orange', 'grape']\n"
     ]
    }
   ],
   "source": [
    "#b) Remove the first and last elements from the \"fruits\" list created earlier. Print the updated list.\n",
    "fruits = [\"apple\", \"banana\", \"orange\", \"grape\", \"kiwi\"]\n",
    "fruits.pop(0)\n",
    "fruits.pop(-1)\n",
    "print(\"Updated list of fruits:\", fruits)"
   ]
  },
  {
   "cell_type": "code",
   "execution_count": 13,
   "id": "b7e09e7a",
   "metadata": {},
   "outputs": [
    {
     "name": "stdout",
     "output_type": "stream",
     "text": [
      "Dictionay of capitals: {'USA': 'Washington D.C', 'France': 'Paris', 'Japan': 'Tokyo'}\n"
     ]
    }
   ],
   "source": [
    "#Task 5: Dictionary Operations\n",
    "#a) Create a dictionary named \"capitals\" with three key-value pairs: \"USA\" - \"Washington D.C.,\" \"France\" - \"Paris,\" and \"Japan\" - \"Tokyo.\" Print the dictionary.\n",
    "capitals={\"USA\":\"Washington D.C\",\"France\":\"Paris\",\"Japan\":\"Tokyo\"}\n",
    "print(\"Dictionay of capitals:\",capitals)\n"
   ]
  },
  {
   "cell_type": "code",
   "execution_count": 14,
   "id": "6810ba3d",
   "metadata": {},
   "outputs": [
    {
     "name": "stdout",
     "output_type": "stream",
     "text": [
      "Updated dictionary of capitals: {'USA': 'Washington D.C', 'France': 'Paris', 'Japan': 'Tokyo', 'Germany': 'Berlin'}\n"
     ]
    }
   ],
   "source": [
    "#b) Add a new country and its capital to the \"capitals\" dictionary. The country is \"Germany,\" and the capital is \"Berlin.\" Print the updated dictionary.\n",
    "capitals={\"USA\":\"Washington D.C\",\"France\":\"Paris\",\"Japan\":\"Tokyo\"}\n",
    "capitals[\"Germany\"]=\"Berlin\"\n",
    "print(\"Updated dictionary of capitals:\",capitals)\n"
   ]
  },
  {
   "cell_type": "code",
   "execution_count": 15,
   "id": "56d75ca2",
   "metadata": {},
   "outputs": [
    {
     "name": "stdout",
     "output_type": "stream",
     "text": [
      "France is in the dictionary\n"
     ]
    }
   ],
   "source": [
    "#c) Check if \"France\" exists in the \"capitals\" dictionary. If it does, print \"France is in the dictionary,\" otherwise, print \"France is not in the dictionary.\"\n",
    "capitals = { \"USA\": \"Washington D.C.\", \"France\": \"Paris\", \"Japan\": \"Tokyo\"}\n",
    "\n",
    "if \"France\" in capitals:\n",
    "    print(\"France is in the dictionary\")\n",
    "else:\n",
    "    print(\"France is not in the dictionary\")"
   ]
  },
  {
   "cell_type": "code",
   "execution_count": 1,
   "id": "5a81a89d",
   "metadata": {},
   "outputs": [
    {
     "name": "stdout",
     "output_type": "stream",
     "text": [
      "enter a number:4\n",
      "The 4 is even \n"
     ]
    }
   ],
   "source": [
    "#Task 6: Comparison Operators, Logical Operators and If/Else:\n",
    "#a) Create a variable called number that takes user input. Next, write a block of code that checks if the number is even or odd.\n",
    "#Your output should print “The number is even”, or the “The number is odd”. \n",
    "\n",
    "number=int(input(\"enter a number:\"))\n",
    "if number%2==0:\n",
    "    print(f\"The {number} is even \")\n",
    "else:\n",
    "    print(f\"The {number} is odd\")\n",
    "    "
   ]
  },
  {
   "cell_type": "code",
   "execution_count": 3,
   "id": "d9839ddb",
   "metadata": {},
   "outputs": [
    {
     "name": "stdout",
     "output_type": "stream",
     "text": [
      "Eligible for admission\n"
     ]
    }
   ],
   "source": [
    "#b) Create two variables called age and GPA. Give them values of your choice. Next, write a block of code to check if a student with this age and GPA is eligible for admission. The following are the conditions:\n",
    "# - The student must be at least 18 years old.\n",
    "#- The student's GPA must be 3.0 or higher on a scale of 4.0.\n",
    "#Your output should print “Eligible for admission” or “Not eligible for admission”.\n",
    "\n",
    "age=19\n",
    "GPA= 3.3\n",
    "if age>=18 and GPA>=3.0:\n",
    "    print(\"Eligible for admission\")\n",
    "else:(\"Not eligible for admission\")\n"
   ]
  },
  {
   "cell_type": "code",
   "execution_count": 7,
   "id": "3b9791eb",
   "metadata": {},
   "outputs": [
    {
     "name": "stdout",
     "output_type": "stream",
     "text": [
      "set of fruits: {'kiwi', 'banana', 'orange', 'grape', 'apple'}\n"
     ]
    }
   ],
   "source": [
    "#Task 7: Advanced Data Types\n",
    "#a) Create a set named \"fruits_set\" containing the following fruits: \"apple,\" \"banana,\" \"orange,\" \"grape,\" and \"kiwi.\" Print the set.\n",
    "fruits_set={\"apple\",\"banana\",\"orange\",\"grape\",\"kiwi\"}\n",
    "\n",
    "print (\"set of fruits:\",fruits_set)"
   ]
  },
  {
   "cell_type": "code",
   "execution_count": 2,
   "id": "d368092f",
   "metadata": {},
   "outputs": [
    {
     "name": "stdout",
     "output_type": "stream",
     "text": [
      "Union of set1 and set2: {1, 2, 3, 4, 5, 6, 7}\n",
      "intersection of set1 and set2: {2, 3, 5}\n",
      "difference between set1 and set2: {1, 4}\n",
      "set1 is not subset of set2:\n"
     ]
    }
   ],
   "source": [
    "#   Write Python code to perform the following operations and print the results:\n",
    "   #- Union of set1 and set2.\n",
    "    \n",
    "set1 = {1, 2, 3, 4, 5}\n",
    "set2 = {2,3, 5, 6, 7}\n",
    "\n",
    "\n",
    "union = set1.union(set2)\n",
    "print(\"Union of set1 and set2:\",union)\n",
    "#   - Intersection of set1 and set2.\n",
    "intersection = set1.intersection(set2)\n",
    "print(\"intersection of set1 and set2:\",intersection)\n",
    "#Difference between set1 and set2.\n",
    "difference = set1.difference(set2)\n",
    "print(\"difference between set1 and set2:\",difference)\n",
    "#Check if set1 is a subset of set2.\n",
    "subset = set1.issubset(set2)\n",
    "if subset:\n",
    "   print(\"set1 is subset of set2:\",subset)\n",
    "else:\n",
    "    print(\"set1 is not subset of set2:\")\n"
   ]
  },
  {
   "cell_type": "code",
   "execution_count": 20,
   "id": "edd85872",
   "metadata": {},
   "outputs": [
    {
     "name": "stdout",
     "output_type": "stream",
     "text": [
      "length of the string is : 39\n",
      "convert string to uppercase: PYTHON PROGRAMMING IS FUN AND POWERFUL!\n",
      "String with 'fun' replaced: Python programming is exciting and powerful!\n",
      "string contains the word 'python'.\n",
      "split the string into a list of words: ['Python', 'programming', 'is', 'fun', 'and', 'powerful!']\n"
     ]
    }
   ],
   "source": [
    "#Task 8: Strings Manipulation\n",
    "#a) Create a string variable containing the following sentence:\n",
    "   #\"Python programming is fun and powerful!\"\n",
    "  # Write Python code to do the following and print the results:\n",
    "  # - Find the length of the string.\n",
    "\n",
    "sentence=\"Python programming is fun and powerful!\"\n",
    "lenght = len(sentence)\n",
    "print(\"length of the string is :\",lenght)\n",
    "#   - Convert the string to uppercase.\n",
    "uppercase= sentence.upper()\n",
    "print(\"convert string to uppercase:\",uppercase)\n",
    "#   - Replace \"fun\" with \"exciting.\"\n",
    "replaced = sentence.replace(\"fun\", \"exciting\")\n",
    "print(\"String with 'fun' replaced:\", replaced)\n",
    "#   - Check if the string contains the word \"Python.\"\n",
    "contains_python = \"Python\" in sentence\n",
    "if contains_python:\n",
    "    print(\"string contains the word 'python'.\")\n",
    "else:\n",
    "    print(\"string does not contains the word 'pyhton'.\")\n",
    "#   - Split the string into a list of words.\n",
    "word_list = sentence.split()\n",
    "print(\"split the string into a list of words:\" , word_list)\n",
    "    "
   ]
  }
 ],
 "metadata": {
  "kernelspec": {
   "display_name": "Python 3 (ipykernel)",
   "language": "python",
   "name": "python3"
  },
  "language_info": {
   "codemirror_mode": {
    "name": "ipython",
    "version": 3
   },
   "file_extension": ".py",
   "mimetype": "text/x-python",
   "name": "python",
   "nbconvert_exporter": "python",
   "pygments_lexer": "ipython3",
   "version": "3.11.4"
  }
 },
 "nbformat": 4,
 "nbformat_minor": 5
}
